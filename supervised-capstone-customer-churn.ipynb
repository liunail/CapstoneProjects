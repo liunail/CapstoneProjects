{
 "cells": [
  {
   "cell_type": "markdown",
   "metadata": {},
   "source": [
    "# Customer Churn Analysis by Supervised Models"
   ]
  },
  {
   "cell_type": "markdown",
   "metadata": {},
   "source": [
    "## Data and Motivation:"
   ]
  },
  {
   "cell_type": "markdown",
   "metadata": {},
   "source": [
    "This project is based on studying the customer churn prediction, using Telco Customer Churn data set provided by IBM Analytics. The dataset can be retrieved from [this page](https://www.ibm.com/communities/analytics/watson-analytics-blog/predictive-insights-in-the-telco-customer-churn-data-set/).<br>"
   ]
  },
  {
   "cell_type": "markdown",
   "metadata": {},
   "source": [
    "The dataset already provides whether a labeled column whether a customer is left or not within the last month. Besides, there are features including number of months that customer stayed, type of services the customer used (phone, internet, online security, etc.), customer's account information (contract, payment method, paperless billing, monthly charges), and customer's demographic characteristics (gender, age range, and if they have partners and dependents).<br>"
   ]
  },
  {
   "cell_type": "markdown",
   "metadata": {},
   "source": [
    "The objective of this project is to predict whether the customers would churn or not, and what features affect customer churn or retention. To do such analysis, I employ different supervised learning models including Logistic regression, k Nearest Neighborhood classification, Random Forest and Support Vector Machine (SVM) classifications.<br>"
   ]
  },
  {
   "cell_type": "code",
   "execution_count": 1,
   "metadata": {
    "scrolled": true
   },
   "outputs": [],
   "source": [
    "import numpy as np\n",
    "import pandas as pd\n",
    "import matplotlib.pyplot as plt\n",
    "import matplotlib.patches as mpatches #for custom legends\n",
    "import seaborn as sns\n",
    "from lifelines import KaplanMeierFitter #survival analysis: Kaplan_Meier\n",
    "from lifelines.statistics import logrank_test #survival: log rank test \n",
    "from lifelines import CoxPHFitter  #survival: fitting Cox model\n",
    "from lifelines.utils import k_fold_cross_validation #survival: cross-validation\n",
    "%matplotlib inline\n",
    "import scipy.stats as stats\n",
    "from sklearn.ensemble import RandomForestRegressor\n",
    "from sklearn.model_selection import train_test_split\n",
    "from sklearn.feature_selection import SelectFromModel\n",
    "from sklearn.linear_model import LogisticRegression\n",
    "from sklearn.metrics import roc_auc_score   #likelihood of model distinguishing observations from two classes.\n",
    "from sklearn.metrics import confusion_matrix, classification_report\n",
    "from sklearn.model_selection import GridSearchCV \n",
    "from sklearn.svm import SVC\n",
    "from sklearn import neighbors\n",
    "from sklearn.ensemble import RandomForestClassifier\n",
    "from sklearn.model_selection import cross_val_score\n",
    "from sklearn.metrics import roc_curve\n",
    "from sklearn.metrics import roc_auc_score\n",
    "from sklearn.utils import resample"
   ]
  },
  {
   "cell_type": "code",
   "execution_count": 2,
   "metadata": {
    "scrolled": false
   },
   "outputs": [],
   "source": [
    "# reading data\n",
    "df=pd.read_csv('/Users/Liuna/Desktop/ibm_data.csv')"
   ]
  },
  {
   "cell_type": "code",
   "execution_count": 3,
   "metadata": {
    "scrolled": false
   },
   "outputs": [
    {
     "data": {
      "text/plain": [
       "(7043, 21)"
      ]
     },
     "execution_count": 3,
     "metadata": {},
     "output_type": "execute_result"
    }
   ],
   "source": [
    "# dimensions of dataset\n",
    "df.shape"
   ]
  },
  {
   "cell_type": "markdown",
   "metadata": {},
   "source": [
    "* This dataset has 7,043 columns and 21 rows."
   ]
  },
  {
   "cell_type": "code",
   "execution_count": 4,
   "metadata": {
    "scrolled": false
   },
   "outputs": [
    {
     "data": {
      "text/plain": [
       "Index(['customerID', 'gender', 'SeniorCitizen', 'Partner', 'Dependents',\n",
       "       'tenure', 'PhoneService', 'MultipleLines', 'InternetService',\n",
       "       'OnlineSecurity', 'OnlineBackup', 'DeviceProtection', 'TechSupport',\n",
       "       'StreamingTV', 'StreamingMovies', 'Contract', 'PaperlessBilling',\n",
       "       'PaymentMethod', 'MonthlyCharges', 'TotalCharges', 'Churn'],\n",
       "      dtype='object')"
      ]
     },
     "execution_count": 4,
     "metadata": {},
     "output_type": "execute_result"
    }
   ],
   "source": [
    "# name of columns\n",
    "df.columns"
   ]
  },
  {
   "cell_type": "code",
   "execution_count": 5,
   "metadata": {
    "scrolled": false
   },
   "outputs": [
    {
     "data": {
      "text/plain": [
       "customerID           object\n",
       "gender               object\n",
       "SeniorCitizen         int64\n",
       "Partner              object\n",
       "Dependents           object\n",
       "tenure                int64\n",
       "PhoneService         object\n",
       "MultipleLines        object\n",
       "InternetService      object\n",
       "OnlineSecurity       object\n",
       "OnlineBackup         object\n",
       "DeviceProtection     object\n",
       "TechSupport          object\n",
       "StreamingTV          object\n",
       "StreamingMovies      object\n",
       "Contract             object\n",
       "PaperlessBilling     object\n",
       "PaymentMethod        object\n",
       "MonthlyCharges      float64\n",
       "TotalCharges         object\n",
       "Churn                object\n",
       "dtype: object"
      ]
     },
     "execution_count": 5,
     "metadata": {},
     "output_type": "execute_result"
    }
   ],
   "source": [
    "# data type\n",
    "df.dtypes"
   ]
  },
  {
   "cell_type": "code",
   "execution_count": 6,
   "metadata": {
    "scrolled": false
   },
   "outputs": [
    {
     "data": {
      "text/html": [
       "<div>\n",
       "<style scoped>\n",
       "    .dataframe tbody tr th:only-of-type {\n",
       "        vertical-align: middle;\n",
       "    }\n",
       "\n",
       "    .dataframe tbody tr th {\n",
       "        vertical-align: top;\n",
       "    }\n",
       "\n",
       "    .dataframe thead th {\n",
       "        text-align: right;\n",
       "    }\n",
       "</style>\n",
       "<table border=\"1\" class=\"dataframe\">\n",
       "  <thead>\n",
       "    <tr style=\"text-align: right;\">\n",
       "      <th></th>\n",
       "      <th>customerID</th>\n",
       "      <th>gender</th>\n",
       "      <th>SeniorCitizen</th>\n",
       "      <th>Partner</th>\n",
       "      <th>Dependents</th>\n",
       "      <th>tenure</th>\n",
       "      <th>PhoneService</th>\n",
       "      <th>MultipleLines</th>\n",
       "      <th>InternetService</th>\n",
       "      <th>OnlineSecurity</th>\n",
       "      <th>...</th>\n",
       "      <th>DeviceProtection</th>\n",
       "      <th>TechSupport</th>\n",
       "      <th>StreamingTV</th>\n",
       "      <th>StreamingMovies</th>\n",
       "      <th>Contract</th>\n",
       "      <th>PaperlessBilling</th>\n",
       "      <th>PaymentMethod</th>\n",
       "      <th>MonthlyCharges</th>\n",
       "      <th>TotalCharges</th>\n",
       "      <th>Churn</th>\n",
       "    </tr>\n",
       "  </thead>\n",
       "  <tbody>\n",
       "    <tr>\n",
       "      <th>0</th>\n",
       "      <td>7590-VHVEG</td>\n",
       "      <td>Female</td>\n",
       "      <td>0</td>\n",
       "      <td>Yes</td>\n",
       "      <td>No</td>\n",
       "      <td>1</td>\n",
       "      <td>No</td>\n",
       "      <td>No phone service</td>\n",
       "      <td>DSL</td>\n",
       "      <td>No</td>\n",
       "      <td>...</td>\n",
       "      <td>No</td>\n",
       "      <td>No</td>\n",
       "      <td>No</td>\n",
       "      <td>No</td>\n",
       "      <td>Month-to-month</td>\n",
       "      <td>Yes</td>\n",
       "      <td>Electronic check</td>\n",
       "      <td>29.85</td>\n",
       "      <td>29.85</td>\n",
       "      <td>No</td>\n",
       "    </tr>\n",
       "    <tr>\n",
       "      <th>1</th>\n",
       "      <td>5575-GNVDE</td>\n",
       "      <td>Male</td>\n",
       "      <td>0</td>\n",
       "      <td>No</td>\n",
       "      <td>No</td>\n",
       "      <td>34</td>\n",
       "      <td>Yes</td>\n",
       "      <td>No</td>\n",
       "      <td>DSL</td>\n",
       "      <td>Yes</td>\n",
       "      <td>...</td>\n",
       "      <td>Yes</td>\n",
       "      <td>No</td>\n",
       "      <td>No</td>\n",
       "      <td>No</td>\n",
       "      <td>One year</td>\n",
       "      <td>No</td>\n",
       "      <td>Mailed check</td>\n",
       "      <td>56.95</td>\n",
       "      <td>1889.5</td>\n",
       "      <td>No</td>\n",
       "    </tr>\n",
       "    <tr>\n",
       "      <th>2</th>\n",
       "      <td>3668-QPYBK</td>\n",
       "      <td>Male</td>\n",
       "      <td>0</td>\n",
       "      <td>No</td>\n",
       "      <td>No</td>\n",
       "      <td>2</td>\n",
       "      <td>Yes</td>\n",
       "      <td>No</td>\n",
       "      <td>DSL</td>\n",
       "      <td>Yes</td>\n",
       "      <td>...</td>\n",
       "      <td>No</td>\n",
       "      <td>No</td>\n",
       "      <td>No</td>\n",
       "      <td>No</td>\n",
       "      <td>Month-to-month</td>\n",
       "      <td>Yes</td>\n",
       "      <td>Mailed check</td>\n",
       "      <td>53.85</td>\n",
       "      <td>108.15</td>\n",
       "      <td>Yes</td>\n",
       "    </tr>\n",
       "    <tr>\n",
       "      <th>3</th>\n",
       "      <td>7795-CFOCW</td>\n",
       "      <td>Male</td>\n",
       "      <td>0</td>\n",
       "      <td>No</td>\n",
       "      <td>No</td>\n",
       "      <td>45</td>\n",
       "      <td>No</td>\n",
       "      <td>No phone service</td>\n",
       "      <td>DSL</td>\n",
       "      <td>Yes</td>\n",
       "      <td>...</td>\n",
       "      <td>Yes</td>\n",
       "      <td>Yes</td>\n",
       "      <td>No</td>\n",
       "      <td>No</td>\n",
       "      <td>One year</td>\n",
       "      <td>No</td>\n",
       "      <td>Bank transfer (automatic)</td>\n",
       "      <td>42.30</td>\n",
       "      <td>1840.75</td>\n",
       "      <td>No</td>\n",
       "    </tr>\n",
       "    <tr>\n",
       "      <th>4</th>\n",
       "      <td>9237-HQITU</td>\n",
       "      <td>Female</td>\n",
       "      <td>0</td>\n",
       "      <td>No</td>\n",
       "      <td>No</td>\n",
       "      <td>2</td>\n",
       "      <td>Yes</td>\n",
       "      <td>No</td>\n",
       "      <td>Fiber optic</td>\n",
       "      <td>No</td>\n",
       "      <td>...</td>\n",
       "      <td>No</td>\n",
       "      <td>No</td>\n",
       "      <td>No</td>\n",
       "      <td>No</td>\n",
       "      <td>Month-to-month</td>\n",
       "      <td>Yes</td>\n",
       "      <td>Electronic check</td>\n",
       "      <td>70.70</td>\n",
       "      <td>151.65</td>\n",
       "      <td>Yes</td>\n",
       "    </tr>\n",
       "  </tbody>\n",
       "</table>\n",
       "<p>5 rows × 21 columns</p>\n",
       "</div>"
      ],
      "text/plain": [
       "   customerID  gender  SeniorCitizen Partner Dependents  tenure PhoneService  \\\n",
       "0  7590-VHVEG  Female              0     Yes         No       1           No   \n",
       "1  5575-GNVDE    Male              0      No         No      34          Yes   \n",
       "2  3668-QPYBK    Male              0      No         No       2          Yes   \n",
       "3  7795-CFOCW    Male              0      No         No      45           No   \n",
       "4  9237-HQITU  Female              0      No         No       2          Yes   \n",
       "\n",
       "      MultipleLines InternetService OnlineSecurity  ...  DeviceProtection  \\\n",
       "0  No phone service             DSL             No  ...                No   \n",
       "1                No             DSL            Yes  ...               Yes   \n",
       "2                No             DSL            Yes  ...                No   \n",
       "3  No phone service             DSL            Yes  ...               Yes   \n",
       "4                No     Fiber optic             No  ...                No   \n",
       "\n",
       "  TechSupport StreamingTV StreamingMovies        Contract PaperlessBilling  \\\n",
       "0          No          No              No  Month-to-month              Yes   \n",
       "1          No          No              No        One year               No   \n",
       "2          No          No              No  Month-to-month              Yes   \n",
       "3         Yes          No              No        One year               No   \n",
       "4          No          No              No  Month-to-month              Yes   \n",
       "\n",
       "               PaymentMethod MonthlyCharges  TotalCharges Churn  \n",
       "0           Electronic check          29.85         29.85    No  \n",
       "1               Mailed check          56.95        1889.5    No  \n",
       "2               Mailed check          53.85        108.15   Yes  \n",
       "3  Bank transfer (automatic)          42.30       1840.75    No  \n",
       "4           Electronic check          70.70        151.65   Yes  \n",
       "\n",
       "[5 rows x 21 columns]"
      ]
     },
     "execution_count": 6,
     "metadata": {},
     "output_type": "execute_result"
    }
   ],
   "source": [
    "#quick check of data\n",
    "df.head()"
   ]
  },
  {
   "cell_type": "code",
   "execution_count": 7,
   "metadata": {
    "scrolled": false
   },
   "outputs": [
    {
     "data": {
      "text/plain": [
       "No     0.73463\n",
       "Yes    0.26537\n",
       "Name: Churn, dtype: float64"
      ]
     },
     "execution_count": 7,
     "metadata": {},
     "output_type": "execute_result"
    }
   ],
   "source": [
    "# tabulating outcome varible: customer churn\n",
    "df.Churn.value_counts()/len(df)"
   ]
  },
  {
   "cell_type": "markdown",
   "metadata": {},
   "source": [
    "* The **outcome** variable is whether customer **churned or not**.\n",
    "* As we can see here, the dataset is imbalanced. Therefore we should make the dataset more balanced by using resampling methods, including overfit and underfit resampling.\n",
    "* Here, I employ **class_weight** option for most of my models to fix the imbalance."
   ]
  },
  {
   "cell_type": "code",
   "execution_count": 8,
   "metadata": {
    "scrolled": false
   },
   "outputs": [
    {
     "name": "stdout",
     "output_type": "stream",
     "text": [
      "False\n"
     ]
    }
   ],
   "source": [
    "# checking for duplicate id:\n",
    "print(any(df['customerID'].duplicated()))  "
   ]
  },
  {
   "cell_type": "code",
   "execution_count": 9,
   "metadata": {
    "scrolled": false
   },
   "outputs": [
    {
     "data": {
      "text/plain": [
       "customerID          0\n",
       "gender              0\n",
       "SeniorCitizen       0\n",
       "Partner             0\n",
       "Dependents          0\n",
       "tenure              0\n",
       "PhoneService        0\n",
       "MultipleLines       0\n",
       "InternetService     0\n",
       "OnlineSecurity      0\n",
       "OnlineBackup        0\n",
       "DeviceProtection    0\n",
       "TechSupport         0\n",
       "StreamingTV         0\n",
       "StreamingMovies     0\n",
       "Contract            0\n",
       "PaperlessBilling    0\n",
       "PaymentMethod       0\n",
       "MonthlyCharges      0\n",
       "TotalCharges        0\n",
       "Churn               0\n",
       "dtype: int64"
      ]
     },
     "execution_count": 9,
     "metadata": {},
     "output_type": "execute_result"
    }
   ],
   "source": [
    "# checking for missing value, nan\n",
    "df.isna().sum()"
   ]
  },
  {
   "cell_type": "markdown",
   "metadata": {},
   "source": [
    "* The dataset has no missing values.\n",
    "* There are 7,043 unique customer ids in this dataset."
   ]
  },
  {
   "cell_type": "code",
   "execution_count": 10,
   "metadata": {
    "scrolled": false
   },
   "outputs": [
    {
     "name": "stdout",
     "output_type": "stream",
     "text": [
      "No                  3390\n",
      "Yes                 2971\n",
      "No phone service     682\n",
      "Name: MultipleLines, dtype: int64\n",
      "Fiber optic    3096\n",
      "DSL            2421\n",
      "No             1526\n",
      "Name: InternetService, dtype: int64\n",
      "No                     3498\n",
      "Yes                    2019\n",
      "No internet service    1526\n",
      "Name: OnlineSecurity, dtype: int64\n",
      "No                     3088\n",
      "Yes                    2429\n",
      "No internet service    1526\n",
      "Name: OnlineBackup, dtype: int64\n",
      "No                     3095\n",
      "Yes                    2422\n",
      "No internet service    1526\n",
      "Name: DeviceProtection, dtype: int64\n",
      "No                     3473\n",
      "Yes                    2044\n",
      "No internet service    1526\n",
      "Name: TechSupport, dtype: int64\n",
      "No                     2810\n",
      "Yes                    2707\n",
      "No internet service    1526\n",
      "Name: StreamingTV, dtype: int64\n",
      "No                     2785\n",
      "Yes                    2732\n",
      "No internet service    1526\n",
      "Name: StreamingMovies, dtype: int64\n",
      "Month-to-month    3875\n",
      "Two year          1695\n",
      "One year          1473\n",
      "Name: Contract, dtype: int64\n",
      "Electronic check             2365\n",
      "Mailed check                 1612\n",
      "Bank transfer (automatic)    1544\n",
      "Credit card (automatic)      1522\n",
      "Name: PaymentMethod, dtype: int64\n"
     ]
    }
   ],
   "source": [
    "# getting an idea how features should be transformed to binary variables\n",
    "ls_ft= ['MultipleLines','InternetService','OnlineSecurity','OnlineBackup','DeviceProtection','TechSupport',\n",
    "       'StreamingTV','StreamingMovies','Contract','PaymentMethod']\n",
    "\n",
    "for l in ls_ft:\n",
    "    print(df[l].value_counts() )"
   ]
  },
  {
   "cell_type": "code",
   "execution_count": 11,
   "metadata": {
    "scrolled": false
   },
   "outputs": [],
   "source": [
    "# Converting yes/no columns to binary 1/0.\n",
    "ls_features= ['Partner','Dependents','PhoneService','PaperlessBilling','Churn'] \n",
    "for ls_f in ls_features:\n",
    "    df[ls_f]= np.where(df[ls_f]==\"Yes\",1,0)\n",
    "    \n",
    "# gender is male=1, otherwise=0\n",
    "df['gender']= np.where(df['gender']==\"Male\",1,0)    \n",
    "\n",
    "# assigning dummy for each payment method\n",
    "ls_payment=['Month-to-month','Two year','One year']\n",
    "for ls_p in ls_payment:\n",
    "    df[ls_p]=np.where(df['Contract']==ls_p,1,0) \n",
    "    \n",
    "# if payment is paid by either automatic methods=1, otherswie, paying by check=0   \n",
    "df[\"Payment_automatic\"] = np.where((df['PaymentMethod']=='Bank transfer (automatic)') | \n",
    "                                    (df['PaymentMethod']=='Credit card (automatic)'),1, 0)  \n",
    "\n",
    "# string to numerical values\n",
    "df['TotalCharges']= pd.to_numeric(df['TotalCharges'], errors='coerce')\n",
    "\n",
    "\n",
    "# changing the column values for No,Yes,No internet service to 0/1 where\n",
    "# zero is for \"No/No internet service\" and one for \"Yes\"\n",
    "ls_no_internet=['OnlineSecurity','OnlineBackup','DeviceProtection','TechSupport','StreamingTV',\n",
    "                'StreamingMovies','MultipleLines']\n",
    "for ls_n in ls_no_internet:\n",
    "    df.loc[df[ls_n] !='Yes', ls_n]=0\n",
    "    df.loc[df[ls_n] =='Yes', ls_n]=1\n",
    "\n",
    "# internet service no as 0, otherwise 1    \n",
    "df.loc[df.InternetService !='No', 'InternetService']=1\n",
    "df.loc[df.InternetService =='No', 'InternetService']=0    \n",
    "\n",
    "# dropping these columns\n",
    "df.drop(columns=['customerID', 'Contract','PaymentMethod'], inplace=True)"
   ]
  },
  {
   "cell_type": "code",
   "execution_count": 12,
   "metadata": {
    "scrolled": true
   },
   "outputs": [
    {
     "data": {
      "text/plain": [
       "gender                 int64\n",
       "SeniorCitizen          int64\n",
       "Partner                int64\n",
       "Dependents             int64\n",
       "tenure                 int64\n",
       "PhoneService           int64\n",
       "MultipleLines          int64\n",
       "InternetService        int64\n",
       "OnlineSecurity         int64\n",
       "OnlineBackup           int64\n",
       "DeviceProtection       int64\n",
       "TechSupport            int64\n",
       "StreamingTV            int64\n",
       "StreamingMovies        int64\n",
       "PaperlessBilling       int64\n",
       "MonthlyCharges       float64\n",
       "TotalCharges         float64\n",
       "Churn                  int64\n",
       "Month-to-month         int64\n",
       "Two year               int64\n",
       "One year               int64\n",
       "Payment_automatic      int64\n",
       "dtype: object"
      ]
     },
     "execution_count": 12,
     "metadata": {},
     "output_type": "execute_result"
    }
   ],
   "source": [
    "# checking data type after transformation\n",
    "df.dtypes"
   ]
  },
  {
   "cell_type": "code",
   "execution_count": 13,
   "metadata": {
    "scrolled": true
   },
   "outputs": [
    {
     "name": "stdout",
     "output_type": "stream",
     "text": [
      "<class 'pandas.core.frame.DataFrame'>\n",
      "RangeIndex: 7043 entries, 0 to 7042\n",
      "Data columns (total 22 columns):\n",
      "gender               7043 non-null int64\n",
      "SeniorCitizen        7043 non-null int64\n",
      "Partner              7043 non-null int64\n",
      "Dependents           7043 non-null int64\n",
      "tenure               7043 non-null int64\n",
      "PhoneService         7043 non-null int64\n",
      "MultipleLines        7043 non-null int64\n",
      "InternetService      7043 non-null int64\n",
      "OnlineSecurity       7043 non-null int64\n",
      "OnlineBackup         7043 non-null int64\n",
      "DeviceProtection     7043 non-null int64\n",
      "TechSupport          7043 non-null int64\n",
      "StreamingTV          7043 non-null int64\n",
      "StreamingMovies      7043 non-null int64\n",
      "PaperlessBilling     7043 non-null int64\n",
      "MonthlyCharges       7043 non-null float64\n",
      "TotalCharges         7032 non-null float64\n",
      "Churn                7043 non-null int64\n",
      "Month-to-month       7043 non-null int64\n",
      "Two year             7043 non-null int64\n",
      "One year             7043 non-null int64\n",
      "Payment_automatic    7043 non-null int64\n",
      "dtypes: float64(2), int64(20)\n",
      "memory usage: 1.2 MB\n"
     ]
    }
   ],
   "source": [
    "# quick check on data\n",
    "df.info()"
   ]
  },
  {
   "cell_type": "code",
   "execution_count": 14,
   "metadata": {
    "scrolled": false
   },
   "outputs": [
    {
     "data": {
      "text/html": [
       "<div>\n",
       "<style scoped>\n",
       "    .dataframe tbody tr th:only-of-type {\n",
       "        vertical-align: middle;\n",
       "    }\n",
       "\n",
       "    .dataframe tbody tr th {\n",
       "        vertical-align: top;\n",
       "    }\n",
       "\n",
       "    .dataframe thead th {\n",
       "        text-align: right;\n",
       "    }\n",
       "</style>\n",
       "<table border=\"1\" class=\"dataframe\">\n",
       "  <thead>\n",
       "    <tr style=\"text-align: right;\">\n",
       "      <th></th>\n",
       "      <th>gender</th>\n",
       "      <th>SeniorCitizen</th>\n",
       "      <th>Partner</th>\n",
       "      <th>Dependents</th>\n",
       "      <th>tenure</th>\n",
       "      <th>PhoneService</th>\n",
       "      <th>MultipleLines</th>\n",
       "      <th>InternetService</th>\n",
       "      <th>OnlineSecurity</th>\n",
       "      <th>OnlineBackup</th>\n",
       "      <th>...</th>\n",
       "      <th>StreamingTV</th>\n",
       "      <th>StreamingMovies</th>\n",
       "      <th>PaperlessBilling</th>\n",
       "      <th>MonthlyCharges</th>\n",
       "      <th>TotalCharges</th>\n",
       "      <th>Churn</th>\n",
       "      <th>Month-to-month</th>\n",
       "      <th>Two year</th>\n",
       "      <th>One year</th>\n",
       "      <th>Payment_automatic</th>\n",
       "    </tr>\n",
       "  </thead>\n",
       "  <tbody>\n",
       "    <tr>\n",
       "      <th>488</th>\n",
       "      <td>0</td>\n",
       "      <td>0</td>\n",
       "      <td>1</td>\n",
       "      <td>1</td>\n",
       "      <td>0</td>\n",
       "      <td>0</td>\n",
       "      <td>0</td>\n",
       "      <td>1</td>\n",
       "      <td>1</td>\n",
       "      <td>0</td>\n",
       "      <td>...</td>\n",
       "      <td>1</td>\n",
       "      <td>0</td>\n",
       "      <td>1</td>\n",
       "      <td>52.55</td>\n",
       "      <td>NaN</td>\n",
       "      <td>0</td>\n",
       "      <td>0</td>\n",
       "      <td>1</td>\n",
       "      <td>0</td>\n",
       "      <td>1</td>\n",
       "    </tr>\n",
       "    <tr>\n",
       "      <th>753</th>\n",
       "      <td>1</td>\n",
       "      <td>0</td>\n",
       "      <td>0</td>\n",
       "      <td>1</td>\n",
       "      <td>0</td>\n",
       "      <td>1</td>\n",
       "      <td>0</td>\n",
       "      <td>0</td>\n",
       "      <td>0</td>\n",
       "      <td>0</td>\n",
       "      <td>...</td>\n",
       "      <td>0</td>\n",
       "      <td>0</td>\n",
       "      <td>0</td>\n",
       "      <td>20.25</td>\n",
       "      <td>NaN</td>\n",
       "      <td>0</td>\n",
       "      <td>0</td>\n",
       "      <td>1</td>\n",
       "      <td>0</td>\n",
       "      <td>0</td>\n",
       "    </tr>\n",
       "    <tr>\n",
       "      <th>936</th>\n",
       "      <td>0</td>\n",
       "      <td>0</td>\n",
       "      <td>1</td>\n",
       "      <td>1</td>\n",
       "      <td>0</td>\n",
       "      <td>1</td>\n",
       "      <td>0</td>\n",
       "      <td>1</td>\n",
       "      <td>1</td>\n",
       "      <td>1</td>\n",
       "      <td>...</td>\n",
       "      <td>1</td>\n",
       "      <td>1</td>\n",
       "      <td>0</td>\n",
       "      <td>80.85</td>\n",
       "      <td>NaN</td>\n",
       "      <td>0</td>\n",
       "      <td>0</td>\n",
       "      <td>1</td>\n",
       "      <td>0</td>\n",
       "      <td>0</td>\n",
       "    </tr>\n",
       "    <tr>\n",
       "      <th>1082</th>\n",
       "      <td>1</td>\n",
       "      <td>0</td>\n",
       "      <td>1</td>\n",
       "      <td>1</td>\n",
       "      <td>0</td>\n",
       "      <td>1</td>\n",
       "      <td>1</td>\n",
       "      <td>0</td>\n",
       "      <td>0</td>\n",
       "      <td>0</td>\n",
       "      <td>...</td>\n",
       "      <td>0</td>\n",
       "      <td>0</td>\n",
       "      <td>0</td>\n",
       "      <td>25.75</td>\n",
       "      <td>NaN</td>\n",
       "      <td>0</td>\n",
       "      <td>0</td>\n",
       "      <td>1</td>\n",
       "      <td>0</td>\n",
       "      <td>0</td>\n",
       "    </tr>\n",
       "    <tr>\n",
       "      <th>1340</th>\n",
       "      <td>0</td>\n",
       "      <td>0</td>\n",
       "      <td>1</td>\n",
       "      <td>1</td>\n",
       "      <td>0</td>\n",
       "      <td>0</td>\n",
       "      <td>0</td>\n",
       "      <td>1</td>\n",
       "      <td>1</td>\n",
       "      <td>1</td>\n",
       "      <td>...</td>\n",
       "      <td>1</td>\n",
       "      <td>0</td>\n",
       "      <td>0</td>\n",
       "      <td>56.05</td>\n",
       "      <td>NaN</td>\n",
       "      <td>0</td>\n",
       "      <td>0</td>\n",
       "      <td>1</td>\n",
       "      <td>0</td>\n",
       "      <td>1</td>\n",
       "    </tr>\n",
       "    <tr>\n",
       "      <th>3331</th>\n",
       "      <td>1</td>\n",
       "      <td>0</td>\n",
       "      <td>1</td>\n",
       "      <td>1</td>\n",
       "      <td>0</td>\n",
       "      <td>1</td>\n",
       "      <td>0</td>\n",
       "      <td>0</td>\n",
       "      <td>0</td>\n",
       "      <td>0</td>\n",
       "      <td>...</td>\n",
       "      <td>0</td>\n",
       "      <td>0</td>\n",
       "      <td>0</td>\n",
       "      <td>19.85</td>\n",
       "      <td>NaN</td>\n",
       "      <td>0</td>\n",
       "      <td>0</td>\n",
       "      <td>1</td>\n",
       "      <td>0</td>\n",
       "      <td>0</td>\n",
       "    </tr>\n",
       "    <tr>\n",
       "      <th>3826</th>\n",
       "      <td>1</td>\n",
       "      <td>0</td>\n",
       "      <td>1</td>\n",
       "      <td>1</td>\n",
       "      <td>0</td>\n",
       "      <td>1</td>\n",
       "      <td>1</td>\n",
       "      <td>0</td>\n",
       "      <td>0</td>\n",
       "      <td>0</td>\n",
       "      <td>...</td>\n",
       "      <td>0</td>\n",
       "      <td>0</td>\n",
       "      <td>0</td>\n",
       "      <td>25.35</td>\n",
       "      <td>NaN</td>\n",
       "      <td>0</td>\n",
       "      <td>0</td>\n",
       "      <td>1</td>\n",
       "      <td>0</td>\n",
       "      <td>0</td>\n",
       "    </tr>\n",
       "    <tr>\n",
       "      <th>4380</th>\n",
       "      <td>0</td>\n",
       "      <td>0</td>\n",
       "      <td>1</td>\n",
       "      <td>1</td>\n",
       "      <td>0</td>\n",
       "      <td>1</td>\n",
       "      <td>0</td>\n",
       "      <td>0</td>\n",
       "      <td>0</td>\n",
       "      <td>0</td>\n",
       "      <td>...</td>\n",
       "      <td>0</td>\n",
       "      <td>0</td>\n",
       "      <td>0</td>\n",
       "      <td>20.00</td>\n",
       "      <td>NaN</td>\n",
       "      <td>0</td>\n",
       "      <td>0</td>\n",
       "      <td>1</td>\n",
       "      <td>0</td>\n",
       "      <td>0</td>\n",
       "    </tr>\n",
       "    <tr>\n",
       "      <th>5218</th>\n",
       "      <td>1</td>\n",
       "      <td>0</td>\n",
       "      <td>1</td>\n",
       "      <td>1</td>\n",
       "      <td>0</td>\n",
       "      <td>1</td>\n",
       "      <td>0</td>\n",
       "      <td>0</td>\n",
       "      <td>0</td>\n",
       "      <td>0</td>\n",
       "      <td>...</td>\n",
       "      <td>0</td>\n",
       "      <td>0</td>\n",
       "      <td>1</td>\n",
       "      <td>19.70</td>\n",
       "      <td>NaN</td>\n",
       "      <td>0</td>\n",
       "      <td>0</td>\n",
       "      <td>0</td>\n",
       "      <td>1</td>\n",
       "      <td>0</td>\n",
       "    </tr>\n",
       "    <tr>\n",
       "      <th>6670</th>\n",
       "      <td>0</td>\n",
       "      <td>0</td>\n",
       "      <td>1</td>\n",
       "      <td>1</td>\n",
       "      <td>0</td>\n",
       "      <td>1</td>\n",
       "      <td>1</td>\n",
       "      <td>1</td>\n",
       "      <td>0</td>\n",
       "      <td>1</td>\n",
       "      <td>...</td>\n",
       "      <td>1</td>\n",
       "      <td>0</td>\n",
       "      <td>0</td>\n",
       "      <td>73.35</td>\n",
       "      <td>NaN</td>\n",
       "      <td>0</td>\n",
       "      <td>0</td>\n",
       "      <td>1</td>\n",
       "      <td>0</td>\n",
       "      <td>0</td>\n",
       "    </tr>\n",
       "    <tr>\n",
       "      <th>6754</th>\n",
       "      <td>1</td>\n",
       "      <td>0</td>\n",
       "      <td>0</td>\n",
       "      <td>1</td>\n",
       "      <td>0</td>\n",
       "      <td>1</td>\n",
       "      <td>1</td>\n",
       "      <td>1</td>\n",
       "      <td>1</td>\n",
       "      <td>1</td>\n",
       "      <td>...</td>\n",
       "      <td>0</td>\n",
       "      <td>0</td>\n",
       "      <td>1</td>\n",
       "      <td>61.90</td>\n",
       "      <td>NaN</td>\n",
       "      <td>0</td>\n",
       "      <td>0</td>\n",
       "      <td>1</td>\n",
       "      <td>0</td>\n",
       "      <td>1</td>\n",
       "    </tr>\n",
       "  </tbody>\n",
       "</table>\n",
       "<p>11 rows × 22 columns</p>\n",
       "</div>"
      ],
      "text/plain": [
       "      gender  SeniorCitizen  Partner  Dependents  tenure  PhoneService  \\\n",
       "488        0              0        1           1       0             0   \n",
       "753        1              0        0           1       0             1   \n",
       "936        0              0        1           1       0             1   \n",
       "1082       1              0        1           1       0             1   \n",
       "1340       0              0        1           1       0             0   \n",
       "3331       1              0        1           1       0             1   \n",
       "3826       1              0        1           1       0             1   \n",
       "4380       0              0        1           1       0             1   \n",
       "5218       1              0        1           1       0             1   \n",
       "6670       0              0        1           1       0             1   \n",
       "6754       1              0        0           1       0             1   \n",
       "\n",
       "      MultipleLines  InternetService  OnlineSecurity  OnlineBackup  \\\n",
       "488               0                1               1             0   \n",
       "753               0                0               0             0   \n",
       "936               0                1               1             1   \n",
       "1082              1                0               0             0   \n",
       "1340              0                1               1             1   \n",
       "3331              0                0               0             0   \n",
       "3826              1                0               0             0   \n",
       "4380              0                0               0             0   \n",
       "5218              0                0               0             0   \n",
       "6670              1                1               0             1   \n",
       "6754              1                1               1             1   \n",
       "\n",
       "            ...          StreamingTV  StreamingMovies  PaperlessBilling  \\\n",
       "488         ...                    1                0                 1   \n",
       "753         ...                    0                0                 0   \n",
       "936         ...                    1                1                 0   \n",
       "1082        ...                    0                0                 0   \n",
       "1340        ...                    1                0                 0   \n",
       "3331        ...                    0                0                 0   \n",
       "3826        ...                    0                0                 0   \n",
       "4380        ...                    0                0                 0   \n",
       "5218        ...                    0                0                 1   \n",
       "6670        ...                    1                0                 0   \n",
       "6754        ...                    0                0                 1   \n",
       "\n",
       "      MonthlyCharges  TotalCharges  Churn  Month-to-month  Two year  One year  \\\n",
       "488            52.55           NaN      0               0         1         0   \n",
       "753            20.25           NaN      0               0         1         0   \n",
       "936            80.85           NaN      0               0         1         0   \n",
       "1082           25.75           NaN      0               0         1         0   \n",
       "1340           56.05           NaN      0               0         1         0   \n",
       "3331           19.85           NaN      0               0         1         0   \n",
       "3826           25.35           NaN      0               0         1         0   \n",
       "4380           20.00           NaN      0               0         1         0   \n",
       "5218           19.70           NaN      0               0         0         1   \n",
       "6670           73.35           NaN      0               0         1         0   \n",
       "6754           61.90           NaN      0               0         1         0   \n",
       "\n",
       "      Payment_automatic  \n",
       "488                   1  \n",
       "753                   0  \n",
       "936                   0  \n",
       "1082                  0  \n",
       "1340                  1  \n",
       "3331                  0  \n",
       "3826                  0  \n",
       "4380                  0  \n",
       "5218                  0  \n",
       "6670                  0  \n",
       "6754                  1  \n",
       "\n",
       "[11 rows x 22 columns]"
      ]
     },
     "execution_count": 14,
     "metadata": {},
     "output_type": "execute_result"
    }
   ],
   "source": [
    "# checking the rows with missing total charges\n",
    "df.loc[df['TotalCharges'].isna()==True]"
   ]
  },
  {
   "cell_type": "markdown",
   "metadata": {},
   "source": [
    "* Total charges have missing values. \n",
    "* Looking at missing values of total charges, it is noticeable that the missing values are related to customers with tenure value equals to zero.\n",
    "* Zero tenure means that the customers recently subscribed for the service.\n",
    "* Therefore, missing Total charges can be replaced by zero."
   ]
  },
  {
   "cell_type": "code",
   "execution_count": 15,
   "metadata": {
    "scrolled": false
   },
   "outputs": [],
   "source": [
    "# replacing missing values in total cahrges column with zero\n",
    "df[df['TotalCharges'].isna()==True] = 0"
   ]
  },
  {
   "cell_type": "code",
   "execution_count": 16,
   "metadata": {
    "scrolled": true
   },
   "outputs": [
    {
     "name": "stdout",
     "output_type": "stream",
     "text": [
      "<class 'pandas.core.frame.DataFrame'>\n",
      "RangeIndex: 7043 entries, 0 to 7042\n",
      "Data columns (total 22 columns):\n",
      "gender               7043 non-null int64\n",
      "SeniorCitizen        7043 non-null int64\n",
      "Partner              7043 non-null int64\n",
      "Dependents           7043 non-null int64\n",
      "tenure               7043 non-null int64\n",
      "PhoneService         7043 non-null int64\n",
      "MultipleLines        7043 non-null int64\n",
      "InternetService      7043 non-null int64\n",
      "OnlineSecurity       7043 non-null int64\n",
      "OnlineBackup         7043 non-null int64\n",
      "DeviceProtection     7043 non-null int64\n",
      "TechSupport          7043 non-null int64\n",
      "StreamingTV          7043 non-null int64\n",
      "StreamingMovies      7043 non-null int64\n",
      "PaperlessBilling     7043 non-null int64\n",
      "MonthlyCharges       7043 non-null float64\n",
      "TotalCharges         7043 non-null float64\n",
      "Churn                7043 non-null int64\n",
      "Month-to-month       7043 non-null int64\n",
      "Two year             7043 non-null int64\n",
      "One year             7043 non-null int64\n",
      "Payment_automatic    7043 non-null int64\n",
      "dtypes: float64(2), int64(20)\n",
      "memory usage: 1.2 MB\n"
     ]
    }
   ],
   "source": [
    "df.info()"
   ]
  },
  {
   "cell_type": "markdown",
   "metadata": {},
   "source": [
    "## Heatmap of Correlation among Variables"
   ]
  },
  {
   "cell_type": "markdown",
   "metadata": {},
   "source": [
    "**Heatmap** is based on the correlation matrix of features and outcome variable (customer churn)."
   ]
  },
  {
   "cell_type": "code",
   "execution_count": 17,
   "metadata": {
    "scrolled": true
   },
   "outputs": [
    {
     "data": {
      "image/png": "[encoded data removed]",
      "text/plain": [
       "<Figure size 1080x1080 with 2 Axes>"
      ]
     },
     "metadata": {
      "needs_background": "light"
     },
     "output_type": "display_data"
    }
   ],
   "source": [
    "# correlation matrix.\n",
    "corrmat = df.corr()   #I could also use print(corrmat)\n",
    "\n",
    "f, ax = plt.subplots(figsize=(15, 15))\n",
    "\n",
    "# heatmap where xticklabels and yticklabels assign the values and annot_kws is the size of corr in each block\n",
    "sns.heatmap(corrmat, xticklabels=corrmat.columns.values, yticklabels=corrmat.columns.values,\n",
    "            annot = True, annot_kws={'size':8})   \n",
    "\n",
    "plt.show()"
   ]
  },
  {
   "cell_type": "code",
   "execution_count": 18,
   "metadata": {
    "scrolled": false
   },
   "outputs": [],
   "source": [
    "df.drop('TotalCharges', axis=1, inplace=True)"
   ]
  },
  {
   "cell_type": "markdown",
   "metadata": {},
   "source": [
    "* The heatmap shows the correlation among feature in pairs. \n",
    "* The correlation is a number between -1 and 1 which indicates perfect positive correlation for 1, and perfect negative correlation for -1. \n",
    "* I drop features which have  correlation above a threshold of .75.\n",
    "* Based on the heatmap the \"total charges\" and \"tenure\" are highly correlated (.83). Besides \"total charges\" is correlated relatively high (.65) with \"monthly charges\". "
   ]
  },
  {
   "cell_type": "markdown",
   "metadata": {},
   "source": [
    "### Creating More Features by Generating Interaction Terms"
   ]
  },
  {
   "cell_type": "code",
   "execution_count": 18,
   "metadata": {
    "scrolled": true
   },
   "outputs": [],
   "source": [
    "features= df.loc[:, ['gender', 'SeniorCitizen', 'Partner', 'Dependents', 'tenure',\n",
    "       'PhoneService', 'MultipleLines', 'InternetService', 'OnlineSecurity',\n",
    "       'OnlineBackup', 'DeviceProtection', 'TechSupport', 'StreamingTV',\n",
    "       'StreamingMovies', 'PaperlessBilling', 'MonthlyCharges', \n",
    "       'Month-to-month', 'Two year', 'One year', 'Payment_automatic']]\n",
    "\n",
    "# creating intercation terms\n",
    "for i in range(0, features.columns.size-1):\n",
    "    for j in range(0, features.columns.size-1):\n",
    "        col1 = str(features.columns.values[i])\n",
    "        col2 = str(features.columns.values[j])\n",
    "        # multiply fields together (we allow values to be squared)\n",
    "        if i != j:\n",
    "            name = col1 + \"*\" + col2\n",
    "            df = pd.concat([df, pd.Series(features.iloc[:,i] * features.iloc[:,j], name=name)], axis=1)"
   ]
  },
  {
   "cell_type": "code",
   "execution_count": 19,
   "metadata": {
    "scrolled": true
   },
   "outputs": [
    {
     "data": {
      "text/plain": [
       "(7043, 364)"
      ]
     },
     "execution_count": 19,
     "metadata": {},
     "output_type": "execute_result"
    }
   ],
   "source": [
    "#checking dimensions\n",
    "df.shape"
   ]
  },
  {
   "cell_type": "markdown",
   "metadata": {
    "scrolled": true
   },
   "source": [
    "* After creating interaction terms, the number of features is increased from 20 to 362.\n",
    "* Next step is to **reduce dimensionality** by dropping the features which do not explain the variation of the outcome variable."
   ]
  },
  {
   "cell_type": "markdown",
   "metadata": {},
   "source": [
    "### Feature Selection:"
   ]
  },
  {
   "cell_type": "code",
   "execution_count": 20,
   "metadata": {
    "scrolled": true
   },
   "outputs": [
    {
     "name": "stdout",
     "output_type": "stream",
     "text": [
      "('gender', 0.001264405794564395)\n",
      "('SeniorCitizen', 0.0010987455761049165)\n",
      "('Partner', 0.0012078776552282666)\n",
      "('Dependents', 0.0013498881249371926)\n",
      "('tenure', 0.015431001807491268)\n",
      "('PhoneService', 0.0)\n",
      "('MultipleLines', 0.0009224740828398086)\n",
      "('InternetService', 2.2711833616387158e-07)\n",
      "('OnlineSecurity', 0.0007791834994375984)\n",
      "('OnlineBackup', 0.00139638584803279)\n",
      "('DeviceProtection', 0.001235400242776428)\n",
      "('TechSupport', 0.0010636568976781701)\n",
      "('StreamingTV', 0.0006598398061203562)\n",
      "('StreamingMovies', 0.0011672899073418715)\n",
      "('PaperlessBilling', 0.000697136984324261)\n",
      "('MonthlyCharges', 0.0181727347071257)\n",
      "('TotalCharges', 0.02616872417813787)\n",
      "('Month-to-month', 0.00021498262105748876)\n",
      "('Two year', 3.117001575150075e-05)\n",
      "('One year', 5.1466076677722255e-05)\n",
      "('Payment_automatic', 0.005093337537276742)\n",
      "('gender*SeniorCitizen', 0.0006115743918678905)\n",
      "('gender*Partner', 0.0012622064788650746)\n",
      "('gender*Dependents', 0.0013389994172648273)\n",
      "('gender*tenure', 0.006787284755691858)\n",
      "('gender*PhoneService', 0.0010743902461784701)\n",
      "('gender*MultipleLines', 0.0010375557722998605)\n",
      "('gender*InternetService', 0.0013343996216472085)\n",
      "('gender*OnlineSecurity', 0.0006996116062447372)\n",
      "('gender*OnlineBackup', 0.0010075252309370974)\n",
      "('gender*DeviceProtection', 0.0015393918964648205)\n",
      "('gender*TechSupport', 0.0011233631545813573)\n",
      "('gender*StreamingTV', 0.0010666434571936546)\n",
      "('gender*StreamingMovies', 0.0006878842471602582)\n",
      "('gender*PaperlessBilling', 0.0017130602264060965)\n",
      "('gender*MonthlyCharges', 0.011173085913270177)\n",
      "('gender*Month-to-month', 0.001505098102801761)\n",
      "('gender*Two year', 2.4769968149435768e-06)\n",
      "('gender*One year', 0.0)\n",
      "('SeniorCitizen*gender', 0.0013094631960676676)\n",
      "('SeniorCitizen*Partner', 0.0009342076884929688)\n",
      "('SeniorCitizen*Dependents', 0.00013242286747461104)\n",
      "('SeniorCitizen*tenure', 0.004354979315016572)\n",
      "('SeniorCitizen*PhoneService', 0.0008813231480927346)\n",
      "('SeniorCitizen*MultipleLines', 0.0008088641149214995)\n",
      "('SeniorCitizen*InternetService', 0.0006967751412710845)\n",
      "('SeniorCitizen*OnlineSecurity', 0.00036156260016461116)\n",
      "('SeniorCitizen*OnlineBackup', 0.0011894195269300366)\n",
      "('SeniorCitizen*DeviceProtection', 0.0005478606047412257)\n",
      "('SeniorCitizen*TechSupport', 0.0)\n",
      "('SeniorCitizen*StreamingTV', 0.0010986242339543694)\n",
      "('SeniorCitizen*StreamingMovies', 0.0005590973506961484)\n",
      "('SeniorCitizen*PaperlessBilling', 0.0012675911972644116)\n",
      "('SeniorCitizen*MonthlyCharges', 0.004192805141442134)\n",
      "('SeniorCitizen*Month-to-month', 0.0012201294876783295)\n",
      "('SeniorCitizen*Two year', 7.007722005140528e-05)\n",
      "('SeniorCitizen*One year', 6.948951004398277e-05)\n",
      "('Partner*gender', 0.0009187751545606477)\n",
      "('Partner*SeniorCitizen', 0.0010455892991854203)\n",
      "('Partner*Dependents', 0.0015136409953994984)\n",
      "('Partner*tenure', 0.006658125011532115)\n",
      "('Partner*PhoneService', 0.0015341076618825694)\n",
      "('Partner*MultipleLines', 0.0003584430058498892)\n",
      "('Partner*InternetService', 0.000753705366072696)\n",
      "('Partner*OnlineSecurity', 0.0008602986660818663)\n",
      "('Partner*OnlineBackup', 0.0010039283262276474)\n",
      "('Partner*DeviceProtection', 0.001373339312827552)\n",
      "('Partner*TechSupport', 0.0009833450517732845)\n",
      "('Partner*StreamingTV', 0.0004595100377208193)\n",
      "('Partner*StreamingMovies', 0.0002692316044712048)\n",
      "('Partner*PaperlessBilling', 0.000989229062648715)\n",
      "('Partner*MonthlyCharges', 0.0059290171667766255)\n",
      "('Partner*Month-to-month', 0.001583090142174754)\n",
      "('Partner*Two year', 0.00043745987501234916)\n",
      "('Partner*One year', 0.0006284536407032617)\n",
      "('Dependents*gender', 0.0008011514055607735)\n",
      "('Dependents*SeniorCitizen', 0.00026977022713805724)\n",
      "('Dependents*Partner', 0.001921328164563356)\n",
      "('Dependents*tenure', 0.003633343700345642)\n",
      "('Dependents*PhoneService', 0.0005640753268565319)\n",
      "('Dependents*MultipleLines', 0.00033094864700131875)\n",
      "('Dependents*InternetService', 0.0004808108151753489)\n",
      "('Dependents*OnlineSecurity', 0.0003121486898897338)\n",
      "('Dependents*OnlineBackup', 0.0005031504454608059)\n",
      "('Dependents*DeviceProtection', 0.000340088793547329)\n",
      "('Dependents*TechSupport', 0.00019199143622569798)\n",
      "('Dependents*StreamingTV', 0.0002580741318530744)\n",
      "('Dependents*StreamingMovies', 0.00023281404626625273)\n",
      "('Dependents*PaperlessBilling', 0.0012219029888171674)\n",
      "('Dependents*MonthlyCharges', 0.00478903214231741)\n",
      "('Dependents*Month-to-month', 0.0007146227749713649)\n",
      "('Dependents*Two year', 1.9835255684806056e-05)\n",
      "('Dependents*One year', 8.910239185625463e-05)\n",
      "('tenure*gender', 0.009000916307124513)\n",
      "('tenure*SeniorCitizen', 0.0030676446769919625)\n",
      "('tenure*Partner', 0.01323716736446808)\n",
      "('tenure*Dependents', 0.0030823655836557167)\n",
      "('tenure*PhoneService', 0.022230825660388497)\n",
      "('tenure*MultipleLines', 0.004733714635712326)\n",
      "('tenure*InternetService', 0.008331060304893539)\n",
      "('tenure*OnlineSecurity', 0.003912907641308097)\n",
      "('tenure*OnlineBackup', 0.004735901560854023)\n",
      "('tenure*DeviceProtection', 0.003784209459426067)\n",
      "('tenure*TechSupport', 0.0026091546003548525)\n",
      "('tenure*StreamingTV', 0.005357944655169304)\n",
      "('tenure*StreamingMovies', 0.006533290649232038)\n",
      "('tenure*PaperlessBilling', 0.007947623859458002)\n",
      "('tenure*MonthlyCharges', 0.025378864235330107)\n",
      "('tenure*Month-to-month', 0.04521925953879792)\n",
      "('tenure*Two year', 0.00024355830294162526)\n",
      "('tenure*One year', 0.00549984415293301)\n",
      "('PhoneService*gender', 0.002328287361248041)\n",
      "('PhoneService*SeniorCitizen', 0.000889899086597995)\n",
      "('PhoneService*Partner', 0.0016821513908422878)\n",
      "('PhoneService*Dependents', 0.001300136890996687)\n",
      "('PhoneService*tenure', 0.024092144907459184)\n",
      "('PhoneService*MultipleLines', 0.0009366345742087808)\n",
      "('PhoneService*InternetService', 0.0004902168024327122)\n",
      "('PhoneService*OnlineSecurity', 0.0008446678533912963)\n",
      "('PhoneService*OnlineBackup', 0.0011402492731339335)\n",
      "('PhoneService*DeviceProtection', 0.0006002208002648977)\n",
      "('PhoneService*TechSupport', 0.0011435139456158012)\n",
      "('PhoneService*StreamingTV', 0.0006846039912847404)\n",
      "('PhoneService*StreamingMovies', 0.0008792552925138471)\n",
      "('PhoneService*PaperlessBilling', 0.0013563278432885927)\n",
      "('PhoneService*MonthlyCharges', 0.016946769680219045)\n",
      "('PhoneService*Month-to-month', 0.002275936739747658)\n",
      "('PhoneService*Two year', 9.082709936545433e-05)\n",
      "('PhoneService*One year', 0.0)\n",
      "('MultipleLines*gender', 0.000994913897383805)\n",
      "('MultipleLines*SeniorCitizen', 0.00037234587631291427)\n",
      "('MultipleLines*Partner', 0.0006173058256182826)\n",
      "('MultipleLines*Dependents', 0.001019321141912785)\n",
      "('MultipleLines*tenure', 0.005278994852095181)\n",
      "('MultipleLines*PhoneService', 0.001036042322311899)\n",
      "('MultipleLines*InternetService', 0.0012365036580159776)\n",
      "('MultipleLines*OnlineSecurity', 0.00046047725240548127)\n",
      "('MultipleLines*OnlineBackup', 0.0013762360124113142)\n",
      "('MultipleLines*DeviceProtection', 0.0007299965602727218)\n",
      "('MultipleLines*TechSupport', 0.0005406798955395356)\n",
      "('MultipleLines*StreamingTV', 0.0008571478235035662)\n",
      "('MultipleLines*StreamingMovies', 0.0010182850943655222)\n",
      "('MultipleLines*PaperlessBilling', 0.0011540376027742642)\n",
      "('MultipleLines*MonthlyCharges', 0.007545362789565603)\n",
      "('MultipleLines*Month-to-month', 0.0013471121411882162)\n",
      "('MultipleLines*Two year', 0.0)\n",
      "('MultipleLines*One year', 0.00019463140365311358)\n",
      "('InternetService*gender', 0.0011963113332739575)\n",
      "('InternetService*SeniorCitizen', 0.0012252582873952904)\n",
      "('InternetService*Partner', 0.0006714583096208415)\n",
      "('InternetService*Dependents', 0.0007696281233426944)\n",
      "('InternetService*tenure', 0.011004994157799503)\n",
      "('InternetService*PhoneService', 0.00865990388137031)\n",
      "('InternetService*MultipleLines', 0.0010858367136848495)\n",
      "('InternetService*OnlineSecurity', 0.0027213719224495393)\n",
      "('InternetService*OnlineBackup', 0.00057336784704615)\n",
      "('InternetService*DeviceProtection', 0.00042603764339446855)\n",
      "('InternetService*TechSupport', 0.0006838848090678291)\n",
      "('InternetService*StreamingTV', 0.0008137235463013227)\n",
      "('InternetService*StreamingMovies', 0.001097113478940649)\n",
      "('InternetService*PaperlessBilling', 0.002759285325046101)\n",
      "('InternetService*MonthlyCharges', 0.014771133669444245)\n",
      "('InternetService*Month-to-month', 0.04062511670205194)\n",
      "('InternetService*Two year', 0.00015086141359198005)\n",
      "('InternetService*One year', 2.3137770567174537e-05)\n",
      "('OnlineSecurity*gender', 0.0016522231121466776)\n",
      "('OnlineSecurity*SeniorCitizen', 9.687927043440194e-05)\n",
      "('OnlineSecurity*Partner', 0.0012159443120083383)\n",
      "('OnlineSecurity*Dependents', 0.00014967611213720556)\n",
      "('OnlineSecurity*tenure', 0.0038987601024031435)\n",
      "('OnlineSecurity*PhoneService', 0.002565914146821828)\n",
      "('OnlineSecurity*MultipleLines', 0.0002526106086974118)\n",
      "('OnlineSecurity*InternetService', 0.0007668146655478482)\n",
      "('OnlineSecurity*OnlineBackup', 0.0013187609936200642)\n",
      "('OnlineSecurity*DeviceProtection', 0.0006595277457893636)\n",
      "('OnlineSecurity*TechSupport', 0.00037184098176283657)\n",
      "('OnlineSecurity*StreamingTV', 0.0005478837308029719)\n",
      "('OnlineSecurity*StreamingMovies', 0.00041140673632691194)\n",
      "('OnlineSecurity*PaperlessBilling', 0.000759882742947753)\n",
      "('OnlineSecurity*MonthlyCharges', 0.0031341937224331562)\n",
      "('OnlineSecurity*Month-to-month', 0.0008178223512596129)\n",
      "('OnlineSecurity*Two year', 5.291392494691031e-05)\n",
      "('OnlineSecurity*One year', 0.00020953295805570377)\n",
      "('OnlineBackup*gender', 0.0009675674422500366)\n",
      "('OnlineBackup*SeniorCitizen', 0.00034912096871358436)\n",
      "('OnlineBackup*Partner', 0.0011123336747390633)\n",
      "('OnlineBackup*Dependents', 0.0004917161786319875)\n",
      "('OnlineBackup*tenure', 0.0038538774356637793)\n",
      "('OnlineBackup*PhoneService', 0.001523980578329022)\n",
      "('OnlineBackup*MultipleLines', 0.0006555099827902309)\n",
      "('OnlineBackup*InternetService', 0.0008986387441676316)\n",
      "('OnlineBackup*OnlineSecurity', 0.00040234250299869145)\n",
      "('OnlineBackup*DeviceProtection', 0.0007304506383380238)\n",
      "('OnlineBackup*TechSupport', 0.0003799582785242703)\n",
      "('OnlineBackup*StreamingTV', 0.0006738144609070614)\n",
      "('OnlineBackup*StreamingMovies', 0.0004288678367624213)\n",
      "('OnlineBackup*PaperlessBilling', 0.0007518261997059126)\n",
      "('OnlineBackup*MonthlyCharges', 0.0038549133385837363)\n",
      "('OnlineBackup*Month-to-month', 0.0014829736267489117)\n",
      "('OnlineBackup*Two year', 0.0)\n",
      "('OnlineBackup*One year', 5.300049619465767e-05)\n",
      "('DeviceProtection*gender', 0.0012576149904675838)\n",
      "('DeviceProtection*SeniorCitizen', 0.0009072218443197782)\n",
      "('DeviceProtection*Partner', 0.0006687941205260294)\n",
      "('DeviceProtection*Dependents', 0.0006001450512174187)\n",
      "('DeviceProtection*tenure', 0.004654417692471322)\n",
      "('DeviceProtection*PhoneService', 0.0012116172849139968)\n",
      "('DeviceProtection*MultipleLines', 0.0007180066806183339)\n",
      "('DeviceProtection*InternetService', 0.0014663428411697483)\n",
      "('DeviceProtection*OnlineSecurity', 0.0005326836803348481)\n",
      "('DeviceProtection*OnlineBackup', 0.0011618532434868533)\n",
      "('DeviceProtection*TechSupport', 0.00022376533487142658)\n",
      "('DeviceProtection*StreamingTV', 0.0012621840355941155)\n",
      "('DeviceProtection*StreamingMovies', 0.001047761355855137)\n",
      "('DeviceProtection*PaperlessBilling', 0.0008968713972646021)\n",
      "('DeviceProtection*MonthlyCharges', 0.005913523350282579)\n",
      "('DeviceProtection*Month-to-month', 0.0011212248333296998)\n",
      "('DeviceProtection*Two year', 0.0)\n",
      "('DeviceProtection*One year', 0.0009452207365238461)\n",
      "('TechSupport*gender', 0.0004124349643526627)\n",
      "('TechSupport*SeniorCitizen', 0.0005057084393774606)\n",
      "('TechSupport*Partner', 0.0008734900296345719)\n",
      "('TechSupport*Dependents', 0.0003582980289661338)\n",
      "('TechSupport*tenure', 0.004235795351195662)\n",
      "('TechSupport*PhoneService', 0.002029448115149271)\n",
      "('TechSupport*MultipleLines', 0.0007431592420496156)\n",
      "('TechSupport*InternetService', 0.0008196657769031272)\n",
      "('TechSupport*OnlineSecurity', 0.0006207981140590169)\n",
      "('TechSupport*OnlineBackup', 0.0018568803152532488)\n",
      "('TechSupport*DeviceProtection', 0.0004000716639538947)\n",
      "('TechSupport*StreamingTV', 0.0006849724973716789)\n",
      "('TechSupport*StreamingMovies', 0.0008854534494102106)\n",
      "('TechSupport*PaperlessBilling', 0.0007190116611139971)\n",
      "('TechSupport*MonthlyCharges', 0.0037727200725940274)\n",
      "('TechSupport*Month-to-month', 0.0010012051204286118)\n",
      "('TechSupport*Two year', 0.00016868990366967633)\n",
      "('TechSupport*One year', 0.00026240241809639275)\n",
      "('StreamingTV*gender', 0.0009547909013830673)\n",
      "('StreamingTV*SeniorCitizen', 0.0011292274714347788)\n",
      "('StreamingTV*Partner', 0.0006863968892759951)\n",
      "('StreamingTV*Dependents', 0.0003234117550210833)\n",
      "('StreamingTV*tenure', 0.006066482614755951)\n",
      "('StreamingTV*PhoneService', 0.0005873613459501739)\n",
      "('StreamingTV*MultipleLines', 0.0008059963682992517)\n",
      "('StreamingTV*InternetService', 0.0002103975697311875)\n",
      "('StreamingTV*OnlineSecurity', 0.0005285525191602159)\n",
      "('StreamingTV*OnlineBackup', 0.0010013097579384745)\n",
      "('StreamingTV*DeviceProtection', 0.0007373602665282723)\n",
      "('StreamingTV*TechSupport', 0.0003766054304642718)\n",
      "('StreamingTV*StreamingMovies', 0.0007173391746547719)\n",
      "('StreamingTV*PaperlessBilling', 0.0007841183410893857)\n",
      "('StreamingTV*MonthlyCharges', 0.005706073381811797)\n",
      "('StreamingTV*Month-to-month', 0.0012677109283764075)\n",
      "('StreamingTV*Two year', 6.844867872876782e-05)\n",
      "('StreamingTV*One year', 0.0002294391262534372)\n",
      "('StreamingMovies*gender', 0.0006704086044817491)\n",
      "('StreamingMovies*SeniorCitizen', 0.00042513595900085826)\n",
      "('StreamingMovies*Partner', 0.001211831244539419)\n",
      "('StreamingMovies*Dependents', 0.00045487250795409235)\n",
      "('StreamingMovies*tenure', 0.004950487849584741)\n",
      "('StreamingMovies*PhoneService', 0.0005963940865974222)\n",
      "('StreamingMovies*MultipleLines', 0.0007255347766662835)\n",
      "('StreamingMovies*InternetService', 0.0011274157598109337)\n",
      "('StreamingMovies*OnlineSecurity', 0.0)\n",
      "('StreamingMovies*OnlineBackup', 0.0003084428978795895)\n",
      "('StreamingMovies*DeviceProtection', 0.0007591477854934059)\n",
      "('StreamingMovies*TechSupport', 0.00041920336199189657)\n",
      "('StreamingMovies*StreamingTV', 0.0006127241356545537)\n",
      "('StreamingMovies*PaperlessBilling', 0.001564860790888212)\n",
      "('StreamingMovies*MonthlyCharges', 0.007409631679758166)\n",
      "('StreamingMovies*Month-to-month', 0.0010088721288073613)\n",
      "('StreamingMovies*Two year', 0.00019461335470735464)\n",
      "('StreamingMovies*One year', 0.0008050978270959777)\n",
      "('PaperlessBilling*gender', 0.0012263105778722722)\n",
      "('PaperlessBilling*SeniorCitizen', 0.0005011209072102162)\n",
      "('PaperlessBilling*Partner', 0.0008824952270678598)\n",
      "('PaperlessBilling*Dependents', 0.000685047908321625)\n",
      "('PaperlessBilling*tenure', 0.008295084880746801)\n",
      "('PaperlessBilling*PhoneService', 0.0012821889887103814)\n",
      "('PaperlessBilling*MultipleLines', 0.0012578623497882468)\n",
      "('PaperlessBilling*InternetService', 0.0004176851322463507)\n",
      "('PaperlessBilling*OnlineSecurity', 0.0007210433553254268)\n",
      "('PaperlessBilling*OnlineBackup', 0.0010044505134016956)\n",
      "('PaperlessBilling*DeviceProtection', 0.002127906772960409)\n",
      "('PaperlessBilling*TechSupport', 0.0005089622995283128)\n",
      "('PaperlessBilling*StreamingTV', 0.0007750521625938458)\n",
      "('PaperlessBilling*StreamingMovies', 0.00024636282219216854)\n",
      "('PaperlessBilling*MonthlyCharges', 0.02404027756000377)\n",
      "('PaperlessBilling*Month-to-month', 0.0015307299911076725)\n",
      "('PaperlessBilling*Two year', 5.0737311673360635e-05)\n",
      "('PaperlessBilling*One year', 0.0)\n",
      "('MonthlyCharges*gender', 0.008935462475912105)\n",
      "('MonthlyCharges*SeniorCitizen', 0.00358583677053483)\n",
      "('MonthlyCharges*Partner', 0.005291508898004187)\n",
      "('MonthlyCharges*Dependents', 0.003825534695029381)\n",
      "('MonthlyCharges*tenure', 0.024549044461760684)\n",
      "('MonthlyCharges*PhoneService', 0.0240481459032905)\n",
      "('MonthlyCharges*MultipleLines', 0.005401275769238858)\n",
      "('MonthlyCharges*InternetService', 0.0208463615743059)\n",
      "('MonthlyCharges*OnlineSecurity', 0.004604130354525671)\n",
      "('MonthlyCharges*OnlineBackup', 0.006004964670284376)\n",
      "('MonthlyCharges*DeviceProtection', 0.0034992967062947495)\n",
      "('MonthlyCharges*TechSupport', 0.004291753990458903)\n",
      "('MonthlyCharges*StreamingTV', 0.006269388704121952)\n",
      "('MonthlyCharges*StreamingMovies', 0.006510701453440212)\n",
      "('MonthlyCharges*PaperlessBilling', 0.01673411994990574)\n",
      "('MonthlyCharges*Month-to-month', 0.01999966384531938)\n",
      "('MonthlyCharges*Two year', 0.0005331985168273449)\n",
      "('MonthlyCharges*One year', 0.002416194140885343)\n",
      "('Month-to-month*gender', 0.0006278061912594636)\n",
      "('Month-to-month*SeniorCitizen', 0.0020648202963690194)\n",
      "('Month-to-month*Partner', 0.0013362652532036383)\n",
      "('Month-to-month*Dependents', 0.0011341796931458653)\n",
      "('Month-to-month*tenure', 0.05179864262775415)\n",
      "('Month-to-month*PhoneService', 0.0003415335737222756)\n",
      "('Month-to-month*MultipleLines', 0.004577376947481407)\n",
      "('Month-to-month*InternetService', 0.0008326698090440702)\n",
      "('Month-to-month*OnlineSecurity', 0.0008380694792031417)\n",
      "('Month-to-month*OnlineBackup', 0.0005665626819972307)\n",
      "('Month-to-month*DeviceProtection', 0.0004981802886087812)\n",
      "('Month-to-month*TechSupport', 0.0007131751961277132)\n",
      "('Month-to-month*StreamingTV', 0.0011317542765127287)\n",
      "('Month-to-month*StreamingMovies', 0.0013394197274020198)\n",
      "('Month-to-month*PaperlessBilling', 0.0025664064164089614)\n",
      "('Month-to-month*MonthlyCharges', 0.03783195610843794)\n",
      "('Month-to-month*Two year', 0.0)\n",
      "('Month-to-month*One year', 0.0)\n",
      "('Two year*gender', 0.0)\n",
      "('Two year*SeniorCitizen', 0.00010423426506597417)\n",
      "('Two year*Partner', 1.6940922912615418e-05)\n",
      "('Two year*Dependents', 0.0)\n",
      "('Two year*tenure', 0.000577531655945844)\n",
      "('Two year*PhoneService', 5.941343007218262e-05)\n",
      "('Two year*MultipleLines', 0.0)\n",
      "('Two year*InternetService', 9.899225115422592e-05)\n",
      "('Two year*OnlineSecurity', 0.0001074508304768163)\n",
      "('Two year*OnlineBackup', 0.0)\n",
      "('Two year*DeviceProtection', 4.7151030179347814e-05)\n",
      "('Two year*TechSupport', 5.2072851669806163e-05)\n",
      "('Two year*StreamingTV', 0.0)\n",
      "('Two year*StreamingMovies', 0.0)\n",
      "('Two year*PaperlessBilling', 0.0)\n",
      "('Two year*MonthlyCharges', 0.009750975017074942)\n",
      "('Two year*Month-to-month', 0.0)\n",
      "('Two year*One year', 0.0)\n",
      "('One year*gender', 0.00015855692040302852)\n",
      "('One year*SeniorCitizen', 0.00021056797005355532)\n",
      "('One year*Partner', 0.00018240477848624834)\n",
      "('One year*Dependents', 3.916139343409689e-05)\n",
      "('One year*tenure', 0.011019288097694178)\n",
      "('One year*PhoneService', 0.00034953878023710153)\n",
      "('One year*MultipleLines', 0.0004995250018699378)\n",
      "('One year*InternetService', 0.0005674156990656432)\n",
      "('One year*OnlineSecurity', 0.00014059242138990627)\n",
      "('One year*OnlineBackup', 3.706677864385757e-05)\n",
      "('One year*DeviceProtection', 0.0001343538102564986)\n",
      "('One year*TechSupport', 0.00012167168317116326)\n",
      "('One year*StreamingTV', 0.0)\n",
      "('One year*StreamingMovies', 0.00015505062373377112)\n",
      "('One year*PaperlessBilling', 0.00034664204357532996)\n",
      "('One year*MonthlyCharges', 0.0030014811140420387)\n",
      "('One year*Month-to-month', 0.0)\n",
      "('One year*Two year', 0.0)\n"
     ]
    }
   ],
   "source": [
    "Y=df['Churn']\n",
    "X=df.drop('Churn', axis=1)    # all features: including interaction\n",
    "\n",
    "#feature selection: only numerical ones\n",
    "X_names = X.columns.get_values().tolist()\n",
    "\n",
    "\n",
    "# feature selection by random forest\n",
    "\n",
    "\n",
    "#from sklearn.feature_selection import SelectFromModel\n",
    "# from sklearn.metrics import accuracy_score\n",
    "\n",
    "X_train, X_test, Y_train, Y_test = train_test_split(X, Y, test_size=0.3, random_state=0)\n",
    "\n",
    "#feature selection by random forest\n",
    "clf = RandomForestClassifier(n_estimators=10, random_state=0, n_jobs=-1)\n",
    "\n",
    "clf.fit(X_train, Y_train)\n",
    "\n",
    "for feature in zip(X_names, clf.feature_importances_):\n",
    "    print(feature)"
   ]
  },
  {
   "cell_type": "code",
   "execution_count": 21,
   "metadata": {
    "scrolled": true
   },
   "outputs": [
    {
     "name": "stdout",
     "output_type": "stream",
     "text": [
      "TotalCharges\n",
      "tenure*PhoneService\n",
      "tenure*MonthlyCharges\n",
      "tenure*Month-to-month\n",
      "PhoneService*tenure\n",
      "InternetService*Month-to-month\n",
      "PaperlessBilling*MonthlyCharges\n",
      "MonthlyCharges*tenure\n",
      "MonthlyCharges*PhoneService\n",
      "MonthlyCharges*InternetService\n",
      "Month-to-month*tenure\n",
      "Month-to-month*MonthlyCharges\n"
     ]
    }
   ],
   "source": [
    "#setting threshold for features explaining variations in price\n",
    "sfm = SelectFromModel(clf, threshold=0.02)\n",
    "\n",
    "sfm.fit(X_train, Y_train)\n",
    "\n",
    "for feature_list_index in sfm.get_support(indices=True):\n",
    "    print(X_names[feature_list_index])"
   ]
  },
  {
   "cell_type": "code",
   "execution_count": 22,
   "metadata": {
    "scrolled": true
   },
   "outputs": [],
   "source": [
    "X_important_train = sfm.transform(X_train)\n",
    "X_important_test = sfm.transform(X_test)"
   ]
  },
  {
   "cell_type": "markdown",
   "metadata": {},
   "source": [
    "## Supervised Learning Models"
   ]
  },
  {
   "cell_type": "markdown",
   "metadata": {},
   "source": [
    "The supervised learning models I will use here include Logistic regression, Support Vector Machine, k-Nearest Neighbors, and Random Forest."
   ]
  },
  {
   "cell_type": "markdown",
   "metadata": {},
   "source": [
    "I use the following classification metrics to evaluate the results of different models:"
   ]
  },
  {
   "cell_type": "markdown",
   "metadata": {},
   "source": [
    "* Confusion matrix: presents the correct and false predictions of a classifier.\n",
    "* The entries of confusion matrix consist of true negative, false positive, false negative and true positive which can be illustrated as follows:\n",
    "\n",
    "| Labels | Predicted No Churn  | Predicted Churn |\n",
    "|-------------| ------------- | -------------|\n",
    "|No Churn Cases| True Negative  | False Postive  |\n",
    "|Churn Cases| False Negative | True Positive  |\n",
    "\n",
    "\n",
    "\n",
    "* Accuracy: number of correct predictions made as a ratio of all predictions made.\n",
    "* Accuracy can be calculated by dividing the diagonal numbers of confusion matrix over all other entries in the confusion matrix.\n",
    "\n",
    "** Accuracy is not the best metric to use here, because my sample does not have an equal number of observations for each class, i.e., binary outcome variable of customer churn has 73.5 percent as \"No\", and 26.5 percent as \"Yes\".\n",
    "\n",
    "* Precision: the ratio of true positive over summation of true positive and false positive.\n",
    "* Recall: the ratio of true positive over summation of true positive and false negative.\n",
    "* F1-score: the product of summation of precision and recall over summation of precision and recall multiplied by 2, which is a balanced measure of precision and recall.\t"
   ]
  },
  {
   "cell_type": "markdown",
   "metadata": {},
   "source": [
    "* The goal is to predict the customer churn. \n",
    "* While I will use these metrics to evaluate the models, my main focus is on **precision metric** when customer churn occurs, i.e., outcome variable equals to 1."
   ]
  },
  {
   "cell_type": "markdown",
   "metadata": {},
   "source": [
    "#### Ridge and Lasso Logistic Regressions: "
   ]
  },
  {
   "cell_type": "markdown",
   "metadata": {},
   "source": [
    "* I run four logistic regressions including two ridge and two lasso logistic regressions. \n",
    "* My first ridge and lasso logistic regressions are not corrected for the imbalance of the dataset.\n",
    "* My second ridge and lasso logistic regressions are corrected for the imbalance of the dataset by using **class_weight= balanced** option."
   ]
  },
  {
   "cell_type": "code",
   "execution_count": 23,
   "metadata": {
    "scrolled": true
   },
   "outputs": [
    {
     "name": "stderr",
     "output_type": "stream",
     "text": [
      "/Users/Liuna/anaconda3/lib/python3.6/site-packages/sklearn/linear_model/logistic.py:432: FutureWarning: Default solver will be changed to 'lbfgs' in 0.22. Specify a solver to silence this warning.\n",
      "  FutureWarning)\n",
      "/Users/Liuna/anaconda3/lib/python3.6/site-packages/sklearn/linear_model/logistic.py:1296: UserWarning: 'n_jobs' > 1 does not have any effect when 'solver' is set to 'liblinear'. Got 'n_jobs' = 4.\n",
      "  \" = {}.\".format(effective_n_jobs(self.n_jobs)))\n"
     ]
    },
    {
     "name": "stdout",
     "output_type": "stream",
     "text": [
      "Accuracy of ridge logistic regression on test set:0.7865593942262187\n",
      "\n",
      "Classification report of ridge logistic regression on test set: \n",
      "              precision    recall  f1-score   support\n",
      "\n",
      "           0       0.83      0.89      0.86      1560\n",
      "           1       0.62      0.48      0.54       553\n",
      "\n",
      "   micro avg       0.79      0.79      0.79      2113\n",
      "   macro avg       0.72      0.69      0.70      2113\n",
      "weighted avg       0.77      0.79      0.78      2113\n",
      "\n"
     ]
    },
    {
     "data": {
      "image/png": "[encoded data removed]",
      "text/plain": [
       "<Figure size 432x288 with 2 Axes>"
      ]
     },
     "metadata": {
      "needs_background": "light"
     },
     "output_type": "display_data"
    }
   ],
   "source": [
    "# Logistic regression\n",
    "\n",
    "#Ridge logistic\n",
    "#l2=ridge, n_jobs=-1 uses are processors. \n",
    "lr_ridge = LogisticRegression(penalty='l2',random_state=0, n_jobs=-1)   \n",
    "                                           \n",
    "lr_ridge.fit(X_important_train,Y_train)\n",
    "Y_lr_important_pred = lr_ridge.predict(X_important_test)\n",
    "\n",
    "print('Accuracy of ridge logistic regression on test set:' + str(lr_ridge.score(X_important_test, Y_test)))\n",
    "\n",
    "print('\\nClassification report of ridge logistic regression on test set: \\n' +\n",
    "      str(classification_report(Y_test, Y_lr_important_pred)))\n",
    "\n",
    "#confusion matrix\n",
    "cm= confusion_matrix(Y_test, Y_lr_important_pred)\n",
    "ax= plt.subplot()\n",
    "sns.heatmap(cm, annot=True, ax = ax,fmt=\"d\"); #annot=True to annotate cells\n",
    "\n",
    "\n",
    "# labels, title and ticks\n",
    "ax.set_xlabel('Predicted labels');ax.set_ylabel('True labels'); \n",
    "ax.set_title('Confusion Matrix'); \n",
    "ax.xaxis.set_ticklabels(['No Churn', 'Churn']); ax.yaxis.set_ticklabels(['No Churn', 'Churn']);"
   ]
  },
  {
   "cell_type": "code",
   "execution_count": 24,
   "metadata": {
    "scrolled": true
   },
   "outputs": [
    {
     "name": "stderr",
     "output_type": "stream",
     "text": [
      "/Users/Liuna/anaconda3/lib/python3.6/site-packages/sklearn/linear_model/logistic.py:432: FutureWarning: Default solver will be changed to 'lbfgs' in 0.22. Specify a solver to silence this warning.\n",
      "  FutureWarning)\n",
      "/Users/Liuna/anaconda3/lib/python3.6/site-packages/sklearn/linear_model/logistic.py:1296: UserWarning: 'n_jobs' > 1 does not have any effect when 'solver' is set to 'liblinear'. Got 'n_jobs' = 4.\n",
      "  \" = {}.\".format(effective_n_jobs(self.n_jobs)))\n"
     ]
    },
    {
     "name": "stdout",
     "output_type": "stream",
     "text": [
      "Accuracy of ridge logistic regression on test set:0.7411263606247042\n",
      "\n",
      "Classification report of ridge logistic regression on test set: \n",
      "              precision    recall  f1-score   support\n",
      "\n",
      "           0       0.89      0.74      0.81      1560\n",
      "           1       0.50      0.74      0.60       553\n",
      "\n",
      "   micro avg       0.74      0.74      0.74      2113\n",
      "   macro avg       0.70      0.74      0.70      2113\n",
      "weighted avg       0.79      0.74      0.75      2113\n",
      "\n"
     ]
    },
    {
     "data": {
      "image/png": "[encoded data removed]",
      "text/plain": [
       "<Figure size 432x288 with 2 Axes>"
      ]
     },
     "metadata": {
      "needs_background": "light"
     },
     "output_type": "display_data"
    }
   ],
   "source": [
    "# Logistic regression\n",
    "\n",
    "#Ridge logistic\n",
    "#l2=ridge, class_weight: for dealing with imbalance data, , n_jobs=-1 uses are processors. \n",
    "lr_ridge = LogisticRegression(penalty='l2',class_weight='balanced'\n",
    "                                           ,random_state=0, n_jobs=-1)   \n",
    "\n",
    "lr_ridge.fit(X_important_train,Y_train)\n",
    "Y_lr_important_pred = lr_ridge.predict(X_important_test)\n",
    "\n",
    "print('Accuracy of ridge logistic regression on test set:'+ str(lr_ridge.score(X_important_test, Y_test)))\n",
    "print('\\nClassification report of ridge logistic regression on test set: \\n'\n",
    "      + str(classification_report(Y_test, Y_lr_important_pred)))\n",
    "\n",
    "#confusion matrix\n",
    "cm= confusion_matrix(Y_test, Y_lr_important_pred)\n",
    "ax= plt.subplot()\n",
    "sns.heatmap(cm, annot=True, ax = ax,fmt=\"d\"); #annot=True to annotate cells\n",
    "\n",
    "\n",
    "# labels, title and ticks\n",
    "ax.set_xlabel('Predicted labels');ax.set_ylabel('True labels'); \n",
    "ax.set_title('Confusion Matrix'); \n",
    "ax.xaxis.set_ticklabels(['No Churn', 'Churn']); ax.yaxis.set_ticklabels(['No Churn', 'Churn']);"
   ]
  },
  {
   "cell_type": "code",
   "execution_count": 25,
   "metadata": {
    "scrolled": true
   },
   "outputs": [
    {
     "name": "stderr",
     "output_type": "stream",
     "text": [
      "/Users/Liuna/anaconda3/lib/python3.6/site-packages/sklearn/linear_model/logistic.py:432: FutureWarning: Default solver will be changed to 'lbfgs' in 0.22. Specify a solver to silence this warning.\n",
      "  FutureWarning)\n",
      "/Users/Liuna/anaconda3/lib/python3.6/site-packages/sklearn/linear_model/logistic.py:1296: UserWarning: 'n_jobs' > 1 does not have any effect when 'solver' is set to 'liblinear'. Got 'n_jobs' = 4.\n",
      "  \" = {}.\".format(effective_n_jobs(self.n_jobs)))\n"
     ]
    },
    {
     "name": "stdout",
     "output_type": "stream",
     "text": [
      "Accuracy of lasso logistic regression classifier on test set:0.7860861334595362\n",
      "\n",
      "Classification report of lasso logistic regression on test set:\n",
      "              precision    recall  f1-score   support\n",
      "\n",
      "           0       0.84      0.88      0.86      1560\n",
      "           1       0.61      0.51      0.56       553\n",
      "\n",
      "   micro avg       0.79      0.79      0.79      2113\n",
      "   macro avg       0.72      0.70      0.71      2113\n",
      "weighted avg       0.78      0.79      0.78      2113\n",
      "\n"
     ]
    },
    {
     "data": {
      "image/png": "[encoded data removed]",
      "text/plain": [
       "<Figure size 432x288 with 2 Axes>"
      ]
     },
     "metadata": {
      "needs_background": "light"
     },
     "output_type": "display_data"
    }
   ],
   "source": [
    "#Lasso logistic\n",
    "\n",
    "#l1=lasso, n_jobs=-1 uses are processors. \n",
    "ll_lasso = LogisticRegression(penalty='l1',random_state=0, n_jobs=-1) \n",
    "                                             \n",
    "\n",
    "ll_lasso.fit(X_important_train,Y_train)\n",
    "Y_ll_important_pred = ll_lasso.predict(X_important_test)\n",
    "\n",
    "print('Accuracy of lasso logistic regression classifier on test set:' +\n",
    "     str(ll_lasso.score(X_important_test, Y_test)))\n",
    "print('\\nClassification report of lasso logistic regression on test set:\\n'+\n",
    "      str(classification_report(Y_test, Y_ll_important_pred)))\n",
    "\n",
    "\n",
    "# #confusion matrix\n",
    "cm= confusion_matrix(Y_test, Y_ll_important_pred)  \n",
    "ax= plt.subplot()\n",
    "sns.heatmap(cm, annot=True, ax = ax,fmt=\"d\"); #annot=True to annotate cells\n",
    "\n",
    "#labels, title and ticks\n",
    "ax.set_xlabel('Predicted labels');ax.set_ylabel('True labels'); \n",
    "ax.set_title('Confusion Matrix'); \n",
    "ax.xaxis.set_ticklabels(['No Churn', 'Churn']); ax.yaxis.set_ticklabels(['No Churn', 'Churn']);"
   ]
  },
  {
   "cell_type": "code",
   "execution_count": 26,
   "metadata": {
    "scrolled": false
   },
   "outputs": [
    {
     "name": "stderr",
     "output_type": "stream",
     "text": [
      "/Users/Liuna/anaconda3/lib/python3.6/site-packages/sklearn/linear_model/logistic.py:432: FutureWarning: Default solver will be changed to 'lbfgs' in 0.22. Specify a solver to silence this warning.\n",
      "  FutureWarning)\n",
      "/Users/Liuna/anaconda3/lib/python3.6/site-packages/sklearn/linear_model/logistic.py:1296: UserWarning: 'n_jobs' > 1 does not have any effect when 'solver' is set to 'liblinear'. Got 'n_jobs' = 4.\n",
      "  \" = {}.\".format(effective_n_jobs(self.n_jobs)))\n"
     ]
    },
    {
     "name": "stdout",
     "output_type": "stream",
     "text": [
      "Accuracy of lasso logistic regression classifier on test set:0.7406530998580217\n",
      "\n",
      "Classification report of lasso logistic regression on test set:\n",
      "              precision    recall  f1-score   support\n",
      "\n",
      "           0       0.89      0.74      0.81      1560\n",
      "           1       0.50      0.74      0.60       553\n",
      "\n",
      "   micro avg       0.74      0.74      0.74      2113\n",
      "   macro avg       0.70      0.74      0.70      2113\n",
      "weighted avg       0.79      0.74      0.75      2113\n",
      "\n"
     ]
    },
    {
     "data": {
      "image/png": "[encoded data removed]",
      "text/plain": [
       "<Figure size 432x288 with 2 Axes>"
      ]
     },
     "metadata": {
      "needs_background": "light"
     },
     "output_type": "display_data"
    }
   ],
   "source": [
    "#Lasso logistic\n",
    "\n",
    "#l1=lasso, class_weight: for dealing with imbalance data, , n_jobs=-1 uses are processors. \n",
    "ll_lasso = LogisticRegression(penalty='l1',class_weight='balanced'\n",
    "                                           ,random_state=0, n_jobs=-1)   \n",
    "\n",
    "ll_lasso.fit(X_important_train,Y_train)\n",
    "Y_ll_important_pred = ll_lasso.predict(X_important_test)\n",
    "\n",
    "print('Accuracy of lasso logistic regression classifier on test set:' +\n",
    "     str(ll_lasso.score(X_important_test, Y_test)))\n",
    "print('\\nClassification report of lasso logistic regression on test set:\\n'+\n",
    "      str(classification_report(Y_test, Y_ll_important_pred)))\n",
    "\n",
    "#confusion matrix\n",
    "cm= confusion_matrix(Y_test, Y_ll_important_pred)\n",
    "ax= plt.subplot()\n",
    "sns.heatmap(cm, annot=True, ax = ax,fmt=\"d\"); #annot=True to annotate cells\n",
    "\n",
    "# labels, title and ticks\n",
    "ax.set_xlabel('Predicted labels');ax.set_ylabel('True labels'); \n",
    "ax.set_title('Confusion Matrix'); \n",
    "ax.xaxis.set_ticklabels(['No Churn', 'Churn']); ax.yaxis.set_ticklabels(['No Churn', 'Churn']);"
   ]
  },
  {
   "cell_type": "markdown",
   "metadata": {},
   "source": [
    "Logistic Ridge Regression results:<br>\n",
    "\n",
    "Ridge performs **L2 regularization** on logistic regression which is the default option of logistic regression.<br>\n",
    "\n",
    "* Accuracy of logistic ridge regression is 74% whereas, before correcting for imbalance precision is  79%.<br>\n",
    "* Precision of logistic ridge regression is 50% for identifying the customer churn whereas, before correcting for imbalance precision is  62%.<br>\n",
    "* Recall of logistic ridge regression is 74% for identifying the customer churn whereas, before correcting for imbalance precision is  48%.<br>\n",
    "\n",
    "Logistic Lasso Regression results:<br>\n",
    "Lasso performs **L1 regularization** on logistic regression. <br>\n",
    "* Accuracy of logistic lasso regression is 74% whereas, before correcting for imbalance precision is  79%.<br>\n",
    "* Precision of logistic lasso regression is 50% for identifying the customer churn whereas, before correcting for imbalance precision is  61%.<br>\n",
    "* Recall of logistic lasso regression is 74% for identifying the customer churn whereas, before correcting for imbalance precision is  51%."
   ]
  },
  {
   "cell_type": "markdown",
   "metadata": {},
   "source": [
    "After performing feature selection, there are not a large number of features to choose. Therefore, in this case, logistic ridge regression is superior compared to logistic lasso regression. Lasso regularization assigns zero to some features whereas ridge regularization keeps all features."
   ]
  },
  {
   "cell_type": "markdown",
   "metadata": {},
   "source": [
    "#### Support Vector Machine (SVM) Classification:"
   ]
  },
  {
   "cell_type": "markdown",
   "metadata": {},
   "source": [
    "* I use grid search to find the best values for parameters within a set of parameters for tuning SVM model. \n",
    "* To save the time of running grid search, I employ the default kernel option which is 'rbf'.\n",
    "* For tunning parameters, I include penalty parameter C of the error term and gamma for Kernel coefficient of rbf.\n",
    "* Downsides of using grid search are the algorithm picks one of the parameters among other specified parameters, whereas there might be other options which work better and excluded in grid search."
   ]
  },
  {
   "cell_type": "code",
   "execution_count": 27,
   "metadata": {
    "scrolled": true
   },
   "outputs": [
    {
     "name": "stdout",
     "output_type": "stream",
     "text": [
      "{'C': 1, 'gamma': 0.001}\n"
     ]
    }
   ],
   "source": [
    "#SVM\n",
    "    \n",
    "svc = SVC()\n",
    "\n",
    "param_grid = {'C': [0.01,0.1, 1, 10, 100],'gamma': [1, 0.1, 0.01,0.001]} #kernal is rbf\n",
    "              \n",
    "CV_svc = GridSearchCV(estimator=svc, param_grid=param_grid, cv= 10)\n",
    "CV_svc.fit(X_important_train,Y_train)\n",
    "\n",
    "print (CV_svc.best_params_)"
   ]
  },
  {
   "cell_type": "code",
   "execution_count": 28,
   "metadata": {
    "scrolled": true
   },
   "outputs": [
    {
     "name": "stdout",
     "output_type": "stream",
     "text": [
      "Accuracy of SVM classifier on test set:0.7785139611926172\n",
      "\n",
      "Classification report of SVM classifier on test set:\n",
      "              precision    recall  f1-score   support\n",
      "\n",
      "           0       0.80      0.93      0.86      1560\n",
      "           1       0.64      0.36      0.46       553\n",
      "\n",
      "   micro avg       0.78      0.78      0.78      2113\n",
      "   macro avg       0.72      0.64      0.66      2113\n",
      "weighted avg       0.76      0.78      0.76      2113\n",
      "\n"
     ]
    },
    {
     "data": {
      "image/png": "[encoded data removed]",
      "text/plain": [
       "<Figure size 432x288 with 2 Axes>"
      ]
     },
     "metadata": {
      "needs_background": "light"
     },
     "output_type": "display_data"
    }
   ],
   "source": [
    "svc_simple = SVC(gamma= 0.001, random_state=0)\n",
    "svc_simple.fit(X_important_train,Y_train)\n",
    "svc_simple_important_pred = svc_simple.predict(X_important_test)\n",
    "\n",
    "print('Accuracy of SVM classifier on test set:'+ str(svc_simple.score(X_important_test, Y_test)))\n",
    "\n",
    "print('\\nClassification report of SVM classifier on test set:\\n'+\n",
    "     str(classification_report(Y_test, svc_simple_important_pred)))\n",
    "\n",
    "#confusion matrix\n",
    "cm= confusion_matrix(Y_test, svc_simple_important_pred)\n",
    "ax= plt.subplot()\n",
    "sns.heatmap(cm, annot=True, ax = ax,fmt=\"d\"); #annot=True to annotate cells\n",
    "\n",
    "# labels, title and ticks\n",
    "ax.set_xlabel('Predicted labels');ax.set_ylabel('True labels'); \n",
    "ax.set_title('Confusion Matrix'); \n",
    "ax.xaxis.set_ticklabels(['No Churn', 'Churn']); ax.yaxis.set_ticklabels(['No Churn', 'Churn']);"
   ]
  },
  {
   "cell_type": "code",
   "execution_count": 29,
   "metadata": {
    "scrolled": true
   },
   "outputs": [
    {
     "name": "stderr",
     "output_type": "stream",
     "text": [
      "/Users/Liuna/anaconda3/lib/python3.6/site-packages/sklearn/model_selection/_search.py:841: DeprecationWarning: The default of the `iid` parameter will change from True to False in version 0.22 and will be removed in 0.24. This will change numeric results when test-set sizes are unequal.\n",
      "  DeprecationWarning)\n"
     ]
    },
    {
     "name": "stdout",
     "output_type": "stream",
     "text": [
      "{'C': 1, 'class_weight': 'balanced', 'gamma': 0.001}\n"
     ]
    }
   ],
   "source": [
    "#SVM using balanced version\n",
    "\n",
    "svc = SVC()\n",
    "\n",
    "param_grid = {'C': [0.01,0.1, 1, 10, 100],'gamma': [1, 0.1, 0.01,0.001] , 'class_weight':['balanced']} \n",
    "#kernal is rbf\n",
    "              \n",
    "CV_svc = GridSearchCV(estimator=svc, param_grid=param_grid, cv= 10)\n",
    "CV_svc.fit(X_important_train,Y_train)\n",
    "\n",
    "print (CV_svc.best_params_)"
   ]
  },
  {
   "cell_type": "code",
   "execution_count": 30,
   "metadata": {
    "scrolled": false
   },
   "outputs": [
    {
     "name": "stdout",
     "output_type": "stream",
     "text": [
      "Accuracy of SVM classifier on test set:0.7643161381921438\n",
      "\n",
      "Classification report of SVM classifier on test set:\n",
      "              precision    recall  f1-score   support\n",
      "\n",
      "           0       0.83      0.85      0.84      1560\n",
      "           1       0.55      0.52      0.54       553\n",
      "\n",
      "   micro avg       0.76      0.76      0.76      2113\n",
      "   macro avg       0.69      0.69      0.69      2113\n",
      "weighted avg       0.76      0.76      0.76      2113\n",
      "\n"
     ]
    },
    {
     "data": {
      "image/png": "[encoded data removed]",
      "text/plain": [
       "<Figure size 432x288 with 2 Axes>"
      ]
     },
     "metadata": {
      "needs_background": "light"
     },
     "output_type": "display_data"
    }
   ],
   "source": [
    "svc = SVC(C=1,gamma = 0.001, class_weight='balanced',random_state=0)\n",
    "svc.fit(X_important_train,Y_train)\n",
    "svc_important_pred = svc.predict(X_important_test)\n",
    "\n",
    "print('Accuracy of SVM classifier on test set:'+ str(svc.score(X_important_test, Y_test)))\n",
    "\n",
    "print('\\nClassification report of SVM classifier on test set:\\n'+\n",
    "     str(classification_report(Y_test, svc_important_pred)))\n",
    "\n",
    "#confusion matrix\n",
    "cm= confusion_matrix(Y_test, svc_important_pred)\n",
    "ax= plt.subplot()\n",
    "sns.heatmap(cm, annot=True, ax = ax,fmt=\"d\"); #annot=True to annotate cells\n",
    "\n",
    "# labels, title and ticks\n",
    "ax.set_xlabel('Predicted labels');ax.set_ylabel('True labels'); \n",
    "ax.set_title('Confusion Matrix'); \n",
    "ax.xaxis.set_ticklabels(['No Churn', 'Churn']); ax.yaxis.set_ticklabels(['No Churn', 'Churn']);"
   ]
  },
  {
   "cell_type": "markdown",
   "metadata": {},
   "source": [
    "* Accuracy of SVM classification is 73% whereas, before correcting for imbalance precision is  78%.<br>\n",
    "* Precision of SVM classification is 49% for identifying the customer churn whereas, before correcting for imbalance precision is  64%.<br>\n",
    "* Recall of SVM classification is 65% for determining the customer churn whereas, before correcting for imbalance precision is  36%.<br>"
   ]
  },
  {
   "cell_type": "markdown",
   "metadata": {},
   "source": [
    "SVM tries to fit the widest gap between two classes here, and fixing for imbalance provides the correct result."
   ]
  },
  {
   "cell_type": "markdown",
   "metadata": {},
   "source": [
    "#### K-Nearest Neighborhood (kNN) Classification:"
   ]
  },
  {
   "cell_type": "markdown",
   "metadata": {},
   "source": [
    "* kNN predicts by averaging the k neighbors nearest to a given data point.\n",
    "* Sklearn does not provide any options to fix for the imbalance of dataset, i.e., there is no class_weight=balanced option.\n",
    "* I use different numbers of neighbors and different types of weights (uniform and distance) to run following kNN classifications."
   ]
  },
  {
   "cell_type": "code",
   "execution_count": 31,
   "metadata": {
    "scrolled": false
   },
   "outputs": [
    {
     "name": "stdout",
     "output_type": "stream",
     "text": [
      "Accuracy of K-Nearest Neighborhood classifier on test set:0.7652626597255088\n",
      "\n",
      "Classification report of K-Nearest Neighborhood classifier on test set: \n",
      "              precision    recall  f1-score   support\n",
      "\n",
      "           0       0.82      0.87      0.85      1560\n",
      "           1       0.56      0.47      0.51       553\n",
      "\n",
      "   micro avg       0.77      0.77      0.77      2113\n",
      "   macro avg       0.69      0.67      0.68      2113\n",
      "weighted avg       0.75      0.77      0.76      2113\n",
      "\n",
      "kNN cross validation scores: [0.77406282 0.77789047 0.76572008 0.77789047 0.75634518]\n"
     ]
    },
    {
     "data": {
      "image/png": "[encoded data removed]",
      "text/plain": [
       "<Figure size 432x288 with 2 Axes>"
      ]
     },
     "metadata": {
      "needs_background": "light"
     },
     "output_type": "display_data"
    }
   ],
   "source": [
    "# weights=uniform\n",
    "knn = neighbors.KNeighborsClassifier(n_neighbors=5 , weights='uniform')\n",
    "knn.fit(X_important_train,Y_train)\n",
    "Y_knn_important_pred = knn.predict(X_important_test)\n",
    "\n",
    "print('Accuracy of K-Nearest Neighborhood classifier on test set:'+ str(knn.score(X_important_test, Y_test)))\n",
    "print('\\nClassification report of K-Nearest Neighborhood classifier on test set: \\n'+\n",
    "     classification_report(Y_test, Y_knn_important_pred))\n",
    "\n",
    "#confusion matrix\n",
    "cm= confusion_matrix(Y_test, Y_knn_important_pred)\n",
    "ax= plt.subplot()\n",
    "sns.heatmap(cm, annot=True, ax = ax,fmt=\"d\"); #annot=True to annotate cells\n",
    "\n",
    "# labels, title and ticks\n",
    "ax.set_xlabel('Predicted labels');ax.set_ylabel('True labels'); \n",
    "ax.set_title('Confusion Matrix'); \n",
    "ax.xaxis.set_ticklabels(['No Churn', 'Churn']); ax.yaxis.set_ticklabels(['No Churn', 'Churn']);\n",
    "\n",
    "knn_result = cross_val_score(knn, X_important_train,Y_train, scoring='accuracy', cv=5)\n",
    "#to compare different k-s using cross validation\n",
    "print ('kNN cross validation scores: '+ str(knn_result))"
   ]
  },
  {
   "cell_type": "code",
   "execution_count": 32,
   "metadata": {
    "scrolled": false
   },
   "outputs": [
    {
     "name": "stdout",
     "output_type": "stream",
     "text": [
      "Accuracy of K-Nearest Neighborhood classifier on test set:0.7610033128253668\n",
      "\n",
      "Classification report of K-Nearest Neighborhood classifier on test set: \n",
      "              precision    recall  f1-score   support\n",
      "\n",
      "           0       0.82      0.87      0.84      1560\n",
      "           1       0.55      0.46      0.50       553\n",
      "\n",
      "   micro avg       0.76      0.76      0.76      2113\n",
      "   macro avg       0.69      0.66      0.67      2113\n",
      "weighted avg       0.75      0.76      0.75      2113\n",
      "\n",
      "kNN cross validation scores: [0.7710233  0.77687627 0.7525355  0.77281947 0.75736041]\n"
     ]
    },
    {
     "data": {
      "image/png": "[encoded data removed]",
      "text/plain": [
       "<Figure size 432x288 with 2 Axes>"
      ]
     },
     "metadata": {
      "needs_background": "light"
     },
     "output_type": "display_data"
    }
   ],
   "source": [
    "#knn with weights distance, neighbors=5\n",
    "knn = neighbors.KNeighborsClassifier(n_neighbors=5 , weights='distance')\n",
    "knn.fit(X_important_train,Y_train)\n",
    "Y_knn_important_pred = knn.predict(X_important_test)\n",
    "\n",
    "\n",
    "print('Accuracy of K-Nearest Neighborhood classifier on test set:'+ str(knn.score(X_important_test, Y_test)))\n",
    "\n",
    "print('\\nClassification report of K-Nearest Neighborhood classifier on test set: \\n'+\n",
    "     str(classification_report(Y_test, Y_knn_important_pred)))\n",
    "\n",
    "#confusion matrix\n",
    "cm= confusion_matrix(Y_test, Y_knn_important_pred)\n",
    "ax= plt.subplot()\n",
    "sns.heatmap(cm, annot=True, ax = ax,fmt=\"d\"); #annot=True to annotate cells\n",
    "\n",
    "# labels, title and ticks\n",
    "ax.set_xlabel('Predicted labels');ax.set_ylabel('True labels'); \n",
    "ax.set_title('Confusion Matrix'); \n",
    "ax.xaxis.set_ticklabels(['No Churn', 'Churn']); ax.yaxis.set_ticklabels(['No Churn', 'Churn']);\n",
    "\n",
    "knn_result = cross_val_score(knn, X_important_train,Y_train, scoring='accuracy', cv=5)\n",
    "#to compare different k-s using cross validation\n",
    "print ('kNN cross validation scores: '+ str(knn_result))"
   ]
  },
  {
   "cell_type": "code",
   "execution_count": 33,
   "metadata": {
    "scrolled": false
   },
   "outputs": [
    {
     "name": "stdout",
     "output_type": "stream",
     "text": [
      "Accuracy of K-Nearest Neighborhood classifier on test set:0.7671557027922385\n",
      "\n",
      "Classification report of K-Nearest Neighborhood classifier on test set: \n",
      "              precision    recall  f1-score   support\n",
      "\n",
      "           0       0.81      0.89      0.85      1560\n",
      "           1       0.57      0.43      0.49       553\n",
      "\n",
      "   micro avg       0.77      0.77      0.77      2113\n",
      "   macro avg       0.69      0.66      0.67      2113\n",
      "weighted avg       0.75      0.77      0.76      2113\n",
      "\n",
      "kNN cross validation scores: [0.78318136 0.78093306 0.75862069 0.79208925 0.76446701]\n"
     ]
    },
    {
     "data": {
      "image/png": "[encoded data removed]",
      "text/plain": [
       "<Figure size 432x288 with 2 Axes>"
      ]
     },
     "metadata": {
      "needs_background": "light"
     },
     "output_type": "display_data"
    }
   ],
   "source": [
    "# distance with neighors=10\n",
    "knn = neighbors.KNeighborsClassifier(n_neighbors=10 , weights='distance')\n",
    "knn.fit(X_important_train,Y_train)\n",
    "Y_knn_important_pred = knn.predict(X_important_test)\n",
    "\n",
    "\n",
    "print('Accuracy of K-Nearest Neighborhood classifier on test set:'+ str(knn.score(X_important_test, Y_test)))\n",
    "\n",
    "print('\\nClassification report of K-Nearest Neighborhood classifier on test set: \\n'+\n",
    "      str(classification_report(Y_test, Y_knn_important_pred)))\n",
    "\n",
    "#confusion matrix\n",
    "cm= confusion_matrix(Y_test, Y_knn_important_pred)\n",
    "ax= plt.subplot()\n",
    "sns.heatmap(cm, annot=True, ax = ax,fmt=\"d\"); #annot=True to annotate cells\n",
    "\n",
    "# labels, title and ticks\n",
    "ax.set_xlabel('Predicted labels');ax.set_ylabel('True labels'); \n",
    "ax.set_title('Confusion Matrix'); \n",
    "ax.xaxis.set_ticklabels(['No Churn', 'Churn']); ax.yaxis.set_ticklabels(['No Churn', 'Churn']);\n",
    "\n",
    "knn_result = cross_val_score(knn, X_important_train,Y_train, scoring='accuracy', cv=5)\n",
    "#to compare different k-s using cross validation\n",
    "print ('kNN cross validation scores: '+ str(knn_result))"
   ]
  },
  {
   "cell_type": "code",
   "execution_count": 34,
   "metadata": {
    "scrolled": false
   },
   "outputs": [
    {
     "name": "stdout",
     "output_type": "stream",
     "text": [
      "Accuracy of K-Nearest Neighborhood classifier on test set:0.7761476573592049\n",
      "\n",
      "Classification report of K-Nearest Neighborhood classifier on test set: \n",
      "              precision    recall  f1-score   support\n",
      "\n",
      "           0       0.82      0.90      0.86      1560\n",
      "           1       0.60      0.43      0.50       553\n",
      "\n",
      "   micro avg       0.78      0.78      0.78      2113\n",
      "   macro avg       0.71      0.67      0.68      2113\n",
      "weighted avg       0.76      0.78      0.76      2113\n",
      "\n",
      "kNN cross validation scores: [0.7852077  0.77383367 0.76572008 0.78194726 0.76751269]\n"
     ]
    },
    {
     "data": {
      "image/png": "[encoded data removed]",
      "text/plain": [
       "<Figure size 432x288 with 2 Axes>"
      ]
     },
     "metadata": {
      "needs_background": "light"
     },
     "output_type": "display_data"
    }
   ],
   "source": [
    "# 15 as number of neighbors\n",
    "knn = neighbors.KNeighborsClassifier(n_neighbors=15 , weights='distance')\n",
    "knn.fit(X_important_train,Y_train)\n",
    "Y_knn_important_pred = knn.predict(X_important_test)\n",
    "\n",
    "\n",
    "print('Accuracy of K-Nearest Neighborhood classifier on test set:'+ str(knn.score(X_important_test, Y_test)))\n",
    "\n",
    "print('\\nClassification report of K-Nearest Neighborhood classifier on test set: \\n'+ \n",
    "     str(classification_report(Y_test, Y_knn_important_pred)))\n",
    "\n",
    "#confusion matrix\n",
    "cm= confusion_matrix(Y_test, Y_knn_important_pred)\n",
    "ax= plt.subplot()\n",
    "sns.heatmap(cm, annot=True, ax = ax,fmt=\"d\"); #annot=True to annotate cells\n",
    "\n",
    "# labels, title and ticks\n",
    "ax.set_xlabel('Predicted labels');ax.set_ylabel('True labels'); \n",
    "ax.set_title('Confusion Matrix'); \n",
    "ax.xaxis.set_ticklabels(['No Churn', 'Churn']); ax.yaxis.set_ticklabels(['No Churn', 'Churn']);\n",
    "\n",
    "knn_result = cross_val_score(knn, X_important_train,Y_train, scoring='accuracy', cv=5)\n",
    "#to compare different k-s using cross validation\n",
    "print ('kNN cross validation scores: '+ str(knn_result))"
   ]
  },
  {
   "cell_type": "code",
   "execution_count": 35,
   "metadata": {},
   "outputs": [
    {
     "name": "stdout",
     "output_type": "stream",
     "text": [
      "Accuracy of K-Nearest Neighborhood classifier on test set:0.7818267865593942\n",
      "\n",
      "Classification report of K-Nearest Neighborhood classifier on test set: \n",
      "              precision    recall  f1-score   support\n",
      "\n",
      "           0       0.82      0.91      0.86      1560\n",
      "           1       0.62      0.43      0.51       553\n",
      "\n",
      "   micro avg       0.78      0.78      0.78      2113\n",
      "   macro avg       0.72      0.67      0.68      2113\n",
      "weighted avg       0.77      0.78      0.77      2113\n",
      "\n",
      "kNN cross validation scores: [0.78926039 0.77586207 0.77789047 0.77687627 0.76649746]\n"
     ]
    },
    {
     "data": {
      "image/png": "[encoded data removed]",
      "text/plain": [
       "<Figure size 432x288 with 2 Axes>"
      ]
     },
     "metadata": {
      "needs_background": "light"
     },
     "output_type": "display_data"
    }
   ],
   "source": [
    "# 20 as number of neighbors\n",
    "knn = neighbors.KNeighborsClassifier(n_neighbors=20 , weights='distance')\n",
    "knn.fit(X_important_train,Y_train)\n",
    "Y_knn_important_pred = knn.predict(X_important_test)\n",
    "\n",
    "\n",
    "print('Accuracy of K-Nearest Neighborhood classifier on test set:'+ str(knn.score(X_important_test, Y_test)))\n",
    "\n",
    "print('\\nClassification report of K-Nearest Neighborhood classifier on test set: \\n'+ \n",
    "     str(classification_report(Y_test, Y_knn_important_pred)))\n",
    "\n",
    "#confusion matrix\n",
    "cm= confusion_matrix(Y_test, Y_knn_important_pred)\n",
    "ax= plt.subplot()\n",
    "sns.heatmap(cm, annot=True, ax = ax,fmt=\"d\"); #annot=True to annotate cells\n",
    "\n",
    "# labels, title and ticks\n",
    "ax.set_xlabel('Predicted labels');ax.set_ylabel('True labels'); \n",
    "ax.set_title('Confusion Matrix'); \n",
    "ax.xaxis.set_ticklabels(['No Churn', 'Churn']); ax.yaxis.set_ticklabels(['No Churn', 'Churn']);\n",
    "\n",
    "knn_result = cross_val_score(knn, X_important_train,Y_train, scoring='accuracy', cv=5)\n",
    "#to compare different k-s using cross validation\n",
    "print ('kNN cross validation scores: '+ str(knn_result))"
   ]
  },
  {
   "cell_type": "code",
   "execution_count": 36,
   "metadata": {},
   "outputs": [
    {
     "name": "stdout",
     "output_type": "stream",
     "text": [
      "Accuracy of K-Nearest Neighborhood classifier on test set:0.7865593942262187\n",
      "\n",
      "Classification report of K-Nearest Neighborhood classifier on test set: \n",
      "              precision    recall  f1-score   support\n",
      "\n",
      "           0       0.82      0.91      0.86      1560\n",
      "           1       0.64      0.43      0.51       553\n",
      "\n",
      "   micro avg       0.79      0.79      0.79      2113\n",
      "   macro avg       0.73      0.67      0.69      2113\n",
      "weighted avg       0.77      0.79      0.77      2113\n",
      "\n",
      "kNN cross validation scores: [0.79128673 0.77383367 0.77991886 0.78194726 0.76954315]\n"
     ]
    },
    {
     "data": {
      "image/png": "[encoded data removed]",
      "text/plain": [
       "<Figure size 432x288 with 2 Axes>"
      ]
     },
     "metadata": {
      "needs_background": "light"
     },
     "output_type": "display_data"
    }
   ],
   "source": [
    "# 25 as number of neighbors\n",
    "knn = neighbors.KNeighborsClassifier(n_neighbors=25 , weights='distance')\n",
    "knn.fit(X_important_train,Y_train)\n",
    "Y_knn_important_pred = knn.predict(X_important_test)\n",
    "\n",
    "\n",
    "print('Accuracy of K-Nearest Neighborhood classifier on test set:'+ str(knn.score(X_important_test, Y_test)))\n",
    "\n",
    "print('\\nClassification report of K-Nearest Neighborhood classifier on test set: \\n'+ \n",
    "     str(classification_report(Y_test, Y_knn_important_pred)))\n",
    "\n",
    "#confusion matrix\n",
    "cm= confusion_matrix(Y_test, Y_knn_important_pred)\n",
    "ax= plt.subplot()\n",
    "sns.heatmap(cm, annot=True, ax = ax,fmt=\"d\"); #annot=True to annotate cells\n",
    "\n",
    "# labels, title and ticks\n",
    "ax.set_xlabel('Predicted labels');ax.set_ylabel('True labels'); \n",
    "ax.set_title('Confusion Matrix'); \n",
    "ax.xaxis.set_ticklabels(['No Churn', 'Churn']); ax.yaxis.set_ticklabels(['No Churn', 'Churn']);\n",
    "\n",
    "knn_result = cross_val_score(knn, X_important_train,Y_train, scoring='accuracy', cv=5)\n",
    "#to compare different k-s using cross validation\n",
    "print ('kNN cross validation scores: '+ str(knn_result))"
   ]
  },
  {
   "cell_type": "markdown",
   "metadata": {},
   "source": [
    "* I employ two types of weights: **uniform and distance**. <br>\n",
    "** Unifrom weight sets all points in each neighborhood as equally weighted.<br>\n",
    "** Distance weight sets the weight of points by the inverse of their distance.\n",
    "\n",
    "Having weights based on the distance is a better choice rather than unifrom weights. Therefore, I use distance weights and change the number of neighbors for parameter tuning.<br>\n",
    "* There is no closed-form solution for calculating the number of neighbors (k). \n",
    "* Implementing cross-validation and test several different values for k can be helpful to choose the one that produces the smallest error during cross-validation.\n",
    "* As the number of neighbors increases, bias tends to increase and variance decreases."
   ]
  },
  {
   "cell_type": "markdown",
   "metadata": {},
   "source": [
    "Increasing number of neighbors from 5 to 20 while using distance weights reveals improvement in the classification metrics.<br>\n",
    "Using 20 neighbors results following metrics:<br>\n",
    "* Accuracy of kNN classification is 77% whereas.\n",
    "* Precision of kNN classification is 58% for identifying the customer churn.\n",
    "* Recall of kNN classification is 45% for identifying the customer churn."
   ]
  },
  {
   "cell_type": "markdown",
   "metadata": {},
   "source": [
    "#### Random Forest Classifications:"
   ]
  },
  {
   "cell_type": "markdown",
   "metadata": {},
   "source": [
    "* Random forest is an ensemble method that uses bagged decision trees with random feature subsets chosen at each split point. \n",
    "* Random forest classification uses votes from each tree to make the final prediction for customer churn.\n",
    "* I use different parameters to tune the model and implement visualization for the tuning process."
   ]
  },
  {
   "cell_type": "code",
   "execution_count": 37,
   "metadata": {
    "scrolled": true
   },
   "outputs": [
    {
     "name": "stdout",
     "output_type": "stream",
     "text": [
      "The OOB Score is: 0.7626774847870182\n"
     ]
    },
    {
     "name": "stderr",
     "output_type": "stream",
     "text": [
      "/Users/Liuna/anaconda3/lib/python3.6/site-packages/sklearn/ensemble/forest.py:248: FutureWarning: The default value of n_estimators will change from 10 in version 0.20 to 100 in 0.22.\n",
      "  \"10 in version 0.20 to 100 in 0.22.\", FutureWarning)\n",
      "/Users/Liuna/anaconda3/lib/python3.6/site-packages/sklearn/ensemble/forest.py:460: UserWarning: Some inputs do not have OOB scores. This probably means too few trees were used to compute any reliable oob estimates.\n",
      "  warn(\"Some inputs do not have OOB scores. \"\n",
      "/Users/Liuna/anaconda3/lib/python3.6/site-packages/sklearn/ensemble/forest.py:465: RuntimeWarning: divide by zero encountered in true_divide\n",
      "  predictions[k].sum(axis=1)[:, np.newaxis])\n",
      "/Users/Liuna/anaconda3/lib/python3.6/site-packages/sklearn/ensemble/forest.py:465: RuntimeWarning: invalid value encountered in true_divide\n",
      "  predictions[k].sum(axis=1)[:, np.newaxis])\n"
     ]
    }
   ],
   "source": [
    "# Create the baseline \n",
    "model_1 = RandomForestClassifier(oob_score=True, random_state=0,n_jobs=-1)\n",
    "\n",
    "\n",
    "# Fit and Evaluate OOB: oob_score Random Forest's custom validation method: out-of-bag prediction\n",
    "model_1 = model_1.fit(X_important_train,Y_train)\n",
    "\n",
    "# Calculate OOB Score\n",
    "print(\"The OOB Score is: \" + str(model_1.oob_score_))"
   ]
  },
  {
   "cell_type": "code",
   "execution_count": 38,
   "metadata": {
    "scrolled": false
   },
   "outputs": [
    {
     "name": "stdout",
     "output_type": "stream",
     "text": [
      "The OOB Score is: 0.7517241379310344\n"
     ]
    },
    {
     "name": "stderr",
     "output_type": "stream",
     "text": [
      "/Users/Liuna/anaconda3/lib/python3.6/site-packages/sklearn/ensemble/forest.py:248: FutureWarning: The default value of n_estimators will change from 10 in version 0.20 to 100 in 0.22.\n",
      "  \"10 in version 0.20 to 100 in 0.22.\", FutureWarning)\n",
      "/Users/Liuna/anaconda3/lib/python3.6/site-packages/sklearn/ensemble/forest.py:460: UserWarning: Some inputs do not have OOB scores. This probably means too few trees were used to compute any reliable oob estimates.\n",
      "  warn(\"Some inputs do not have OOB scores. \"\n",
      "/Users/Liuna/anaconda3/lib/python3.6/site-packages/sklearn/ensemble/forest.py:465: RuntimeWarning: divide by zero encountered in true_divide\n",
      "  predictions[k].sum(axis=1)[:, np.newaxis])\n",
      "/Users/Liuna/anaconda3/lib/python3.6/site-packages/sklearn/ensemble/forest.py:465: RuntimeWarning: invalid value encountered in true_divide\n",
      "  predictions[k].sum(axis=1)[:, np.newaxis])\n"
     ]
    }
   ],
   "source": [
    "#baseline\n",
    "# Create the baseline \n",
    "model_1 = RandomForestClassifier(oob_score=True, random_state=0,n_jobs=-1,class_weight='balanced')\n",
    "\n",
    "\n",
    "# Fit and Evaluate OOB: oob_score Random Forest's custom validation method: out-of-bag prediction\n",
    "model_1 = model_1.fit(X_important_train,Y_train)\n",
    "\n",
    "# Calculate OOB Score\n",
    "print(\"The OOB Score is: \" + str(model_1.oob_score_))"
   ]
  },
  {
   "cell_type": "code",
   "execution_count": 39,
   "metadata": {
    "scrolled": true
   },
   "outputs": [
    {
     "name": "stderr",
     "output_type": "stream",
     "text": [
      "/Users/Liuna/anaconda3/lib/python3.6/site-packages/sklearn/model_selection/_split.py:1943: FutureWarning: You should specify a value for 'cv' instead of relying on the default value. The default value will change from 3 to 5 in version 0.22.\n",
      "  warnings.warn(CV_WARNING, FutureWarning)\n",
      "/Users/Liuna/anaconda3/lib/python3.6/site-packages/sklearn/ensemble/forest.py:460: UserWarning: Some inputs do not have OOB scores. This probably means too few trees were used to compute any reliable oob estimates.\n",
      "  warn(\"Some inputs do not have OOB scores. \"\n",
      "/Users/Liuna/anaconda3/lib/python3.6/site-packages/sklearn/ensemble/forest.py:465: RuntimeWarning: invalid value encountered in true_divide\n",
      "  predictions[k].sum(axis=1)[:, np.newaxis])\n",
      "/Users/Liuna/anaconda3/lib/python3.6/site-packages/sklearn/ensemble/forest.py:460: UserWarning: Some inputs do not have OOB scores. This probably means too few trees were used to compute any reliable oob estimates.\n",
      "  warn(\"Some inputs do not have OOB scores. \"\n",
      "/Users/Liuna/anaconda3/lib/python3.6/site-packages/sklearn/ensemble/forest.py:465: RuntimeWarning: invalid value encountered in true_divide\n",
      "  predictions[k].sum(axis=1)[:, np.newaxis])\n",
      "/Users/Liuna/anaconda3/lib/python3.6/site-packages/sklearn/ensemble/forest.py:460: UserWarning: Some inputs do not have OOB scores. This probably means too few trees were used to compute any reliable oob estimates.\n",
      "  warn(\"Some inputs do not have OOB scores. \"\n",
      "/Users/Liuna/anaconda3/lib/python3.6/site-packages/sklearn/ensemble/forest.py:465: RuntimeWarning: invalid value encountered in true_divide\n",
      "  predictions[k].sum(axis=1)[:, np.newaxis])\n"
     ]
    },
    {
     "data": {
      "text/plain": [
       "0.7665300461427669"
      ]
     },
     "execution_count": 39,
     "metadata": {},
     "output_type": "execute_result"
    }
   ],
   "source": [
    "# evaluating score by cross validation\n",
    "rf_result = cross_val_score(model_1,X_important_train,Y_train, scoring='accuracy')\n",
    "\n",
    "rf_result.mean()"
   ]
  },
  {
   "cell_type": "markdown",
   "metadata": {},
   "source": [
    "* Out-of-bag (oob) prediction is random forest's custom validation method.\n",
    "* Cross validation uses the entire dataset, whereas out of bag (oob) has more variance because we use less data. \n",
    "* Oob is good for hyperparameter tuning and we still need to do cross-validation for model comparison.\n",
    "* Oob may sometime create biased results."
   ]
  },
  {
   "cell_type": "markdown",
   "metadata": {},
   "source": [
    "Tuning the following parameters may improve the behavior of random model:<br>\n",
    "\n",
    "* max_depth: The depth size of a tree.\n",
    "* n_estimators: The number of trees in the forest. \n",
    "* max_features: The max number of features that the algorithm can assign to an individual tree. \n",
    "* min_samples_leaf: The minimum number of samples in newly created leaves."
   ]
  },
  {
   "cell_type": "code",
   "execution_count": 40,
   "metadata": {
    "scrolled": false
   },
   "outputs": [
    {
     "name": "stderr",
     "output_type": "stream",
     "text": [
      "/Users/Liuna/anaconda3/lib/python3.6/site-packages/sklearn/ensemble/forest.py:460: UserWarning: Some inputs do not have OOB scores. This probably means too few trees were used to compute any reliable oob estimates.\n",
      "  warn(\"Some inputs do not have OOB scores. \"\n",
      "/Users/Liuna/anaconda3/lib/python3.6/site-packages/sklearn/ensemble/forest.py:465: RuntimeWarning: invalid value encountered in true_divide\n",
      "  predictions[k].sum(axis=1)[:, np.newaxis])\n",
      "/Users/Liuna/anaconda3/lib/python3.6/site-packages/sklearn/ensemble/forest.py:460: UserWarning: Some inputs do not have OOB scores. This probably means too few trees were used to compute any reliable oob estimates.\n",
      "  warn(\"Some inputs do not have OOB scores. \"\n",
      "/Users/Liuna/anaconda3/lib/python3.6/site-packages/sklearn/ensemble/forest.py:465: RuntimeWarning: divide by zero encountered in true_divide\n",
      "  predictions[k].sum(axis=1)[:, np.newaxis])\n",
      "/Users/Liuna/anaconda3/lib/python3.6/site-packages/sklearn/ensemble/forest.py:465: RuntimeWarning: invalid value encountered in true_divide\n",
      "  predictions[k].sum(axis=1)[:, np.newaxis])\n"
     ]
    },
    {
     "name": "stdout",
     "output_type": "stream",
     "text": [
      "1 depth\n",
      "AUC Train:  0.868459662945351\n",
      "AUC Test:  0.6525710576343488\n",
      " \n",
      "2 depth\n",
      "AUC Train:  0.8223823092566397\n",
      "AUC Test:  0.6211155932674919\n",
      " \n",
      "3 depth\n"
     ]
    },
    {
     "name": "stderr",
     "output_type": "stream",
     "text": [
      "/Users/Liuna/anaconda3/lib/python3.6/site-packages/sklearn/ensemble/forest.py:460: UserWarning: Some inputs do not have OOB scores. This probably means too few trees were used to compute any reliable oob estimates.\n",
      "  warn(\"Some inputs do not have OOB scores. \"\n",
      "/Users/Liuna/anaconda3/lib/python3.6/site-packages/sklearn/ensemble/forest.py:465: RuntimeWarning: invalid value encountered in true_divide\n",
      "  predictions[k].sum(axis=1)[:, np.newaxis])\n"
     ]
    },
    {
     "name": "stdout",
     "output_type": "stream",
     "text": [
      "AUC Train:  0.9201173080707751\n",
      "AUC Test:  0.6661809709278064\n",
      " \n",
      "4 depth\n"
     ]
    },
    {
     "name": "stderr",
     "output_type": "stream",
     "text": [
      "/Users/Liuna/anaconda3/lib/python3.6/site-packages/sklearn/ensemble/forest.py:460: UserWarning: Some inputs do not have OOB scores. This probably means too few trees were used to compute any reliable oob estimates.\n",
      "  warn(\"Some inputs do not have OOB scores. \"\n",
      "/Users/Liuna/anaconda3/lib/python3.6/site-packages/sklearn/ensemble/forest.py:465: RuntimeWarning: invalid value encountered in true_divide\n",
      "  predictions[k].sum(axis=1)[:, np.newaxis])\n"
     ]
    },
    {
     "name": "stdout",
     "output_type": "stream",
     "text": [
      "AUC Train:  0.8929828781351817\n",
      "AUC Test:  0.6318032178791673\n",
      " \n",
      "5 depth\n"
     ]
    },
    {
     "name": "stderr",
     "output_type": "stream",
     "text": [
      "/Users/Liuna/anaconda3/lib/python3.6/site-packages/sklearn/ensemble/forest.py:460: UserWarning: Some inputs do not have OOB scores. This probably means too few trees were used to compute any reliable oob estimates.\n",
      "  warn(\"Some inputs do not have OOB scores. \"\n",
      "/Users/Liuna/anaconda3/lib/python3.6/site-packages/sklearn/ensemble/forest.py:465: RuntimeWarning: invalid value encountered in true_divide\n",
      "  predictions[k].sum(axis=1)[:, np.newaxis])\n"
     ]
    },
    {
     "name": "stdout",
     "output_type": "stream",
     "text": [
      "AUC Train:  0.941988728400025\n",
      "AUC Test:  0.6592108313627302\n",
      " \n",
      "10 depth\n"
     ]
    },
    {
     "name": "stderr",
     "output_type": "stream",
     "text": [
      "/Users/Liuna/anaconda3/lib/python3.6/site-packages/sklearn/ensemble/forest.py:460: UserWarning: Some inputs do not have OOB scores. This probably means too few trees were used to compute any reliable oob estimates.\n",
      "  warn(\"Some inputs do not have OOB scores. \"\n",
      "/Users/Liuna/anaconda3/lib/python3.6/site-packages/sklearn/ensemble/forest.py:465: RuntimeWarning: divide by zero encountered in true_divide\n",
      "  predictions[k].sum(axis=1)[:, np.newaxis])\n",
      "/Users/Liuna/anaconda3/lib/python3.6/site-packages/sklearn/ensemble/forest.py:465: RuntimeWarning: invalid value encountered in true_divide\n",
      "  predictions[k].sum(axis=1)[:, np.newaxis])\n"
     ]
    },
    {
     "name": "stdout",
     "output_type": "stream",
     "text": [
      "AUC Train:  0.9542254202249609\n",
      "AUC Test:  0.6613535725877497\n",
      " \n",
      "20 depth\n",
      "AUC Train:  0.9775772788362717\n",
      "AUC Test:  0.6732223999629063\n",
      " \n",
      "50 depth\n",
      "AUC Train:  0.9898736844052931\n",
      "AUC Test:  0.6654390967682107\n",
      " \n",
      "100 depth\n",
      "AUC Train:  0.9915317921019743\n",
      "AUC Test:  0.6633102656836835\n",
      " \n"
     ]
    },
    {
     "data": {
      "image/png": "[encoded data removed]",
      "text/plain": [
       "<Figure size 432x288 with 1 Axes>"
      ]
     },
     "metadata": {
      "needs_background": "light"
     },
     "output_type": "display_data"
    }
   ],
   "source": [
    "# tuning parmeters: max_depth / higher max_depth: more likely to overfit\n",
    "\n",
    "results  =  []\n",
    "results2 = []\n",
    "max_depth_size  = [1,2,3,4,5,10,20,50,100]\n",
    "\n",
    "for depth in max_depth_size:\n",
    "    model = RandomForestClassifier(depth, oob_score=True, n_jobs=-1, random_state=0,class_weight='balanced')\n",
    "    #model.fit(X, y)\n",
    "    model.fit(X_important_train,Y_train)\n",
    "    print(depth, 'depth')\n",
    "    pred = model.predict(X_important_train)\n",
    "    pred2 = model.predict(X_important_test)\n",
    "    roc1 = roc_auc_score(Y_train, pred)\n",
    "    roc2 = roc_auc_score(Y_test, pred2)\n",
    "    print('AUC Train: ', roc1)\n",
    "    print('AUC Test: ', roc2)\n",
    "    results.append(roc1)\n",
    "    results2.append(roc2)\n",
    "    print (\" \")\n",
    "    \n",
    "plt.plot(max_depth_size, results, label='Train Set')\n",
    "plt.plot(max_depth_size, results2, label='Test Set')\n",
    "plt.xlabel('Max Depth Size')\n",
    "plt.ylabel('AUC Score')\n",
    "plt.title('Train VS Test Scores')\n",
    "plt.legend(loc=\"lower right\")\n",
    "plt.show()    "
   ]
  },
  {
   "cell_type": "markdown",
   "metadata": {},
   "source": [
    "* Overfitting train set would happen as max-depth gets larger.\n",
    "* Higher max_depth can add complexity to the model. So, lower max-depth is preferred.<br>\n",
    "<br>\n",
    "* AUC stands for \"Area under the ROC Curve\", and measures two-dimensional area underneath the entire ROC curve.\n",
    "* An ROC (receiver operating characteristic) curve is plotted for y-axis as true positive rate and x-axis as false positive rate, where true positive rate is recall metric (ratio of true positive over summation of true positive and false negative) and false positive rate is ratio of false positive over summation of false positive and true negative.\n",
    "* As AUC Train and AUC Teest move together upper the model gets better.<br> \n",
    "Based on the visualization, after max-depth =3 the model gets worse and then it started getting better slowly as max_depth increases. Hence, choosing max_depth =1 which is the default amount works pretty well."
   ]
  },
  {
   "cell_type": "code",
   "execution_count": 41,
   "metadata": {
    "scrolled": false
   },
   "outputs": [
    {
     "name": "stderr",
     "output_type": "stream",
     "text": [
      "/Users/Liuna/anaconda3/lib/python3.6/site-packages/sklearn/ensemble/forest.py:460: UserWarning: Some inputs do not have OOB scores. This probably means too few trees were used to compute any reliable oob estimates.\n",
      "  warn(\"Some inputs do not have OOB scores. \"\n",
      "/Users/Liuna/anaconda3/lib/python3.6/site-packages/sklearn/ensemble/forest.py:465: RuntimeWarning: divide by zero encountered in true_divide\n",
      "  predictions[k].sum(axis=1)[:, np.newaxis])\n",
      "/Users/Liuna/anaconda3/lib/python3.6/site-packages/sklearn/ensemble/forest.py:465: RuntimeWarning: invalid value encountered in true_divide\n",
      "  predictions[k].sum(axis=1)[:, np.newaxis])\n",
      "/Users/Liuna/anaconda3/lib/python3.6/site-packages/sklearn/ensemble/forest.py:460: UserWarning: Some inputs do not have OOB scores. This probably means too few trees were used to compute any reliable oob estimates.\n",
      "  warn(\"Some inputs do not have OOB scores. \"\n",
      "/Users/Liuna/anaconda3/lib/python3.6/site-packages/sklearn/ensemble/forest.py:465: RuntimeWarning: divide by zero encountered in true_divide\n",
      "  predictions[k].sum(axis=1)[:, np.newaxis])\n",
      "/Users/Liuna/anaconda3/lib/python3.6/site-packages/sklearn/ensemble/forest.py:465: RuntimeWarning: invalid value encountered in true_divide\n",
      "  predictions[k].sum(axis=1)[:, np.newaxis])\n"
     ]
    },
    {
     "name": "stdout",
     "output_type": "stream",
     "text": [
      "1 trees\n",
      "AUC:  0.7356997971602434\n",
      "Accuracy:  0.7326076668244202\n",
      " \n",
      "2 trees\n",
      "AUC:  0.7397565922920892\n",
      "Accuracy:  0.7576904874585897\n",
      " \n",
      "3 trees\n",
      "AUC:  0.7393509127789046\n"
     ]
    },
    {
     "name": "stderr",
     "output_type": "stream",
     "text": [
      "/Users/Liuna/anaconda3/lib/python3.6/site-packages/sklearn/ensemble/forest.py:460: UserWarning: Some inputs do not have OOB scores. This probably means too few trees were used to compute any reliable oob estimates.\n",
      "  warn(\"Some inputs do not have OOB scores. \"\n",
      "/Users/Liuna/anaconda3/lib/python3.6/site-packages/sklearn/ensemble/forest.py:465: RuntimeWarning: divide by zero encountered in true_divide\n",
      "  predictions[k].sum(axis=1)[:, np.newaxis])\n",
      "/Users/Liuna/anaconda3/lib/python3.6/site-packages/sklearn/ensemble/forest.py:465: RuntimeWarning: invalid value encountered in true_divide\n",
      "  predictions[k].sum(axis=1)[:, np.newaxis])\n"
     ]
    },
    {
     "name": "stdout",
     "output_type": "stream",
     "text": [
      "Accuracy:  0.7501183151916706\n",
      " \n",
      "4 trees\n",
      "AUC:  0.7395537525354969\n"
     ]
    },
    {
     "name": "stderr",
     "output_type": "stream",
     "text": [
      "/Users/Liuna/anaconda3/lib/python3.6/site-packages/sklearn/ensemble/forest.py:460: UserWarning: Some inputs do not have OOB scores. This probably means too few trees were used to compute any reliable oob estimates.\n",
      "  warn(\"Some inputs do not have OOB scores. \"\n",
      "/Users/Liuna/anaconda3/lib/python3.6/site-packages/sklearn/ensemble/forest.py:465: RuntimeWarning: divide by zero encountered in true_divide\n",
      "  predictions[k].sum(axis=1)[:, np.newaxis])\n",
      "/Users/Liuna/anaconda3/lib/python3.6/site-packages/sklearn/ensemble/forest.py:465: RuntimeWarning: invalid value encountered in true_divide\n",
      "  predictions[k].sum(axis=1)[:, np.newaxis])\n"
     ]
    },
    {
     "name": "stdout",
     "output_type": "stream",
     "text": [
      "Accuracy:  0.7510648367250355\n",
      " \n",
      "5 trees\n",
      "AUC:  0.7415821501014199\n"
     ]
    },
    {
     "name": "stderr",
     "output_type": "stream",
     "text": [
      "/Users/Liuna/anaconda3/lib/python3.6/site-packages/sklearn/ensemble/forest.py:460: UserWarning: Some inputs do not have OOB scores. This probably means too few trees were used to compute any reliable oob estimates.\n",
      "  warn(\"Some inputs do not have OOB scores. \"\n",
      "/Users/Liuna/anaconda3/lib/python3.6/site-packages/sklearn/ensemble/forest.py:465: RuntimeWarning: divide by zero encountered in true_divide\n",
      "  predictions[k].sum(axis=1)[:, np.newaxis])\n",
      "/Users/Liuna/anaconda3/lib/python3.6/site-packages/sklearn/ensemble/forest.py:465: RuntimeWarning: invalid value encountered in true_divide\n",
      "  predictions[k].sum(axis=1)[:, np.newaxis])\n"
     ]
    },
    {
     "name": "stdout",
     "output_type": "stream",
     "text": [
      "Accuracy:  0.7458589682915286\n",
      " \n",
      "15 trees\n",
      "AUC:  0.7567951318458418\n"
     ]
    },
    {
     "name": "stderr",
     "output_type": "stream",
     "text": [
      "/Users/Liuna/anaconda3/lib/python3.6/site-packages/sklearn/ensemble/forest.py:460: UserWarning: Some inputs do not have OOB scores. This probably means too few trees were used to compute any reliable oob estimates.\n",
      "  warn(\"Some inputs do not have OOB scores. \"\n",
      "/Users/Liuna/anaconda3/lib/python3.6/site-packages/sklearn/ensemble/forest.py:465: RuntimeWarning: invalid value encountered in true_divide\n",
      "  predictions[k].sum(axis=1)[:, np.newaxis])\n"
     ]
    },
    {
     "name": "stdout",
     "output_type": "stream",
     "text": [
      "Accuracy:  0.7657359204921912\n",
      " \n",
      "20 trees\n",
      "AUC:  0.7622718052738336\n",
      "Accuracy:  0.7699952673923331\n",
      " \n",
      "25 trees\n",
      "AUC:  0.7612576064908723\n",
      "Accuracy:  0.7647893989588264\n",
      " \n",
      "40 trees\n",
      "AUC:  0.7620689655172413\n",
      "Accuracy:  0.7628963558920966\n",
      " \n",
      "50 trees\n",
      "AUC:  0.7606490872210954\n",
      "Accuracy:  0.7619498343587316\n",
      " \n",
      "70 trees\n",
      "AUC:  0.7643002028397566\n",
      "Accuracy:  0.7619498343587316\n",
      " \n",
      "100 trees\n",
      "AUC:  0.7655172413793103\n",
      "Accuracy:  0.7605300520586843\n",
      " \n"
     ]
    },
    {
     "data": {
      "image/png": "[encoded data removed]",
      "text/plain": [
       "<Figure size 432x288 with 1 Axes>"
      ]
     },
     "metadata": {
      "needs_background": "light"
     },
     "output_type": "display_data"
    }
   ],
   "source": [
    "# n-estimator \n",
    "results = []\n",
    "results_score=[]\n",
    "n_estimator_options = [1, 2, 3, 4, 5, 15, 20, 25, 40, 50, 70, 100]\n",
    "\n",
    "for trees in n_estimator_options:\n",
    "    model = RandomForestClassifier(trees, oob_score=True, n_jobs=-1, random_state=0,class_weight='balanced')\n",
    "    #model.fit(X, y)\n",
    "    model.fit(X_important_train,Y_train)\n",
    "    print(trees, 'trees')\n",
    "    AUC = model.oob_score_\n",
    "    print('AUC: ', AUC)\n",
    "    results.append(AUC)\n",
    "    score=model.score(X_important_test, Y_test)\n",
    "    print('Accuracy: ', score)\n",
    "    results_score.append(score)\n",
    "    print (\" \")\n",
    "        \n",
    "plt.plot(n_estimator_options, results, label='OOB Score')\n",
    "plt.xlabel('# of Trees')\n",
    "plt.ylabel('OOB Score')\n",
    "plt.title('OOB Score VS Trees')\n",
    "plt.legend(loc=\"lower right\")\n",
    "plt.show()"
   ]
  },
  {
   "cell_type": "markdown",
   "metadata": {},
   "source": [
    "* Having n_estimator=1 is equivalent of having just a decision tree. Above 1 for the number of estimators results from random forest.\n",
    "* More trees we have, more generalized the outcome would be (more is more and better!).\n",
    "* Based on both AUC and accuracy, 20 seems a good fit for the number of estimators."
   ]
  },
  {
   "cell_type": "code",
   "execution_count": 42,
   "metadata": {
    "scrolled": true
   },
   "outputs": [
    {
     "name": "stdout",
     "output_type": "stream",
     "text": [
      "auto option\n",
      "AUC:  0.7643002028397566\n",
      "Accuracy:  0.7619498343587316\n",
      " \n",
      "None option\n",
      "AUC:  0.7614604462474645\n",
      "Accuracy:  0.7643161381921438\n",
      " \n",
      "log2 option\n",
      "AUC:  0.7643002028397566\n",
      "Accuracy:  0.7619498343587316\n",
      " \n",
      "0.7 option\n",
      "AUC:  0.7655172413793103\n",
      "Accuracy:  0.7581637482252721\n",
      " \n",
      "0.2 option\n",
      "AUC:  0.7645030425963489\n",
      "Accuracy:  0.7595835305253195\n",
      " \n"
     ]
    },
    {
     "data": {
      "text/plain": [
       "<matplotlib.axes._subplots.AxesSubplot at 0x1a1eef69b0>"
      ]
     },
     "execution_count": 42,
     "metadata": {},
     "output_type": "execute_result"
    },
    {
     "data": {
      "image/png": "[encoded data removed]",
      "text/plain": [
       "<Figure size 432x288 with 1 Axes>"
      ]
     },
     "metadata": {
      "needs_background": "light"
     },
     "output_type": "display_data"
    }
   ],
   "source": [
    "# none=using all feature\n",
    "# auto and sqr do exactly same thing.\n",
    "results = []\n",
    "results_score=[]\n",
    "max_features_options = [\"auto\", None, \"log2\", 0.7, 0.2]\n",
    "\n",
    "# using 70 as n_estimators from last part\n",
    "for max_features in max_features_options:\n",
    "    model = RandomForestClassifier(n_estimators=70, oob_score=True, n_jobs=-1, random_state=0,\n",
    "                                   class_weight='balanced', max_features=max_features)\n",
    "    model.fit(X_important_train,Y_train)\n",
    "    print(max_features, \"option\")\n",
    "    auc = model.oob_score_\n",
    "    print('AUC: ', auc)\n",
    "    results.append(auc)\n",
    "    score=model.score(X_important_test, Y_test)\n",
    "    print('Accuracy: ', score)\n",
    "    results_score.append(score)\n",
    "    print (\" \")\n",
    "    \n",
    "pd.Series(results, max_features_options).plot(kind='barh')"
   ]
  },
  {
   "cell_type": "markdown",
   "metadata": {},
   "source": [
    "* Max Features specify the number of features that random forest learns.\n",
    "* Choosing the default parameter of auto for max features would be good enough."
   ]
  },
  {
   "cell_type": "code",
   "execution_count": 43,
   "metadata": {
    "scrolled": false
   },
   "outputs": [
    {
     "name": "stdout",
     "output_type": "stream",
     "text": [
      "1 min samples\n",
      "AUC:  0.7643002028397566\n",
      "Accuracy:  0.7619498343587316\n",
      " \n",
      "2 min samples\n",
      "AUC:  0.7663286004056795\n",
      "Accuracy:  0.7600567912920019\n",
      " \n",
      "3 min samples\n",
      "AUC:  0.7645030425963489\n",
      "Accuracy:  0.7638428774254614\n",
      " \n",
      "4 min samples\n",
      "AUC:  0.7632860040567951\n",
      "Accuracy:  0.7647893989588264\n",
      " \n",
      "5 min samples\n",
      "AUC:  0.7632860040567951\n",
      "Accuracy:  0.7610033128253668\n",
      " \n",
      "6 min samples\n",
      "AUC:  0.757606490872211\n",
      "Accuracy:  0.759110269758637\n",
      " \n",
      "7 min samples\n",
      "AUC:  0.7628803245436105\n",
      "Accuracy:  0.7576904874585897\n",
      " \n",
      "8 min samples\n",
      "AUC:  0.7567951318458418\n",
      "Accuracy:  0.7600567912920019\n",
      " \n",
      "9 min samples\n",
      "AUC:  0.7563894523326572\n",
      "Accuracy:  0.7581637482252721\n",
      " \n",
      "10 min samples\n",
      "AUC:  0.7578093306288033\n",
      "Accuracy:  0.7562707051585423\n",
      " \n",
      "20 min samples\n",
      "AUC:  0.7612576064908723\n",
      "Accuracy:  0.7491717936583058\n",
      " \n"
     ]
    },
    {
     "data": {
      "image/png": "[encoded data removed]",
      "text/plain": [
       "<Figure size 432x288 with 1 Axes>"
      ]
     },
     "metadata": {
      "needs_background": "light"
     },
     "output_type": "display_data"
    }
   ],
   "source": [
    "# min samples leaf: last node of branch, output of prediction\n",
    "\n",
    "results = []\n",
    "results_score=[]\n",
    "min_samples_leaf_options = [1, 2, 3, 4, 5, 6, 7, 8, 9, 10,20]\n",
    "\n",
    "for min_samples in min_samples_leaf_options:\n",
    "    model = RandomForestClassifier(n_estimators=70, oob_score=True, n_jobs=-1, random_state=0, \n",
    "                                   max_features=\"auto\", min_samples_leaf=min_samples, class_weight='balanced')\n",
    "    model.fit(X_important_train,Y_train)\n",
    "    print(min_samples, \"min samples\")\n",
    "    auc = model.oob_score_\n",
    "    print('AUC: ', auc)\n",
    "    results.append(auc)\n",
    "    score=model.score(X_important_test, Y_test)\n",
    "    print('Accuracy: ', score)\n",
    "    results_score.append(score)\n",
    "    print (\" \")\n",
    "    \n",
    "pd.Series(results, min_samples_leaf_options).plot();"
   ]
  },
  {
   "cell_type": "markdown",
   "metadata": {},
   "source": [
    "* Based on AUC and accuracy, min samples leaf of 5 seems a good choice."
   ]
  },
  {
   "cell_type": "code",
   "execution_count": 44,
   "metadata": {
    "scrolled": false
   },
   "outputs": [
    {
     "name": "stderr",
     "output_type": "stream",
     "text": [
      "/Users/Liuna/anaconda3/lib/python3.6/site-packages/sklearn/ensemble/forest.py:248: FutureWarning: The default value of n_estimators will change from 10 in version 0.20 to 100 in 0.22.\n",
      "  \"10 in version 0.20 to 100 in 0.22.\", FutureWarning)\n",
      "/Users/Liuna/anaconda3/lib/python3.6/site-packages/sklearn/ensemble/forest.py:460: UserWarning: Some inputs do not have OOB scores. This probably means too few trees were used to compute any reliable oob estimates.\n",
      "  warn(\"Some inputs do not have OOB scores. \"\n",
      "/Users/Liuna/anaconda3/lib/python3.6/site-packages/sklearn/ensemble/forest.py:465: RuntimeWarning: invalid value encountered in true_divide\n",
      "  predictions[k].sum(axis=1)[:, np.newaxis])\n",
      "/Users/Liuna/anaconda3/lib/python3.6/site-packages/sklearn/model_selection/_split.py:1943: FutureWarning: You should specify a value for 'cv' instead of relying on the default value. The default value will change from 3 to 5 in version 0.22.\n",
      "  warnings.warn(CV_WARNING, FutureWarning)\n",
      "/Users/Liuna/anaconda3/lib/python3.6/site-packages/sklearn/ensemble/forest.py:460: UserWarning: Some inputs do not have OOB scores. This probably means too few trees were used to compute any reliable oob estimates.\n",
      "  warn(\"Some inputs do not have OOB scores. \"\n",
      "/Users/Liuna/anaconda3/lib/python3.6/site-packages/sklearn/ensemble/forest.py:465: RuntimeWarning: invalid value encountered in true_divide\n",
      "  predictions[k].sum(axis=1)[:, np.newaxis])\n",
      "/Users/Liuna/anaconda3/lib/python3.6/site-packages/sklearn/ensemble/forest.py:460: UserWarning: Some inputs do not have OOB scores. This probably means too few trees were used to compute any reliable oob estimates.\n",
      "  warn(\"Some inputs do not have OOB scores. \"\n",
      "/Users/Liuna/anaconda3/lib/python3.6/site-packages/sklearn/ensemble/forest.py:465: RuntimeWarning: invalid value encountered in true_divide\n",
      "  predictions[k].sum(axis=1)[:, np.newaxis])\n",
      "/Users/Liuna/anaconda3/lib/python3.6/site-packages/sklearn/ensemble/forest.py:460: UserWarning: Some inputs do not have OOB scores. This probably means too few trees were used to compute any reliable oob estimates.\n",
      "  warn(\"Some inputs do not have OOB scores. \"\n",
      "/Users/Liuna/anaconda3/lib/python3.6/site-packages/sklearn/ensemble/forest.py:465: RuntimeWarning: invalid value encountered in true_divide\n",
      "  predictions[k].sum(axis=1)[:, np.newaxis])\n"
     ]
    },
    {
     "name": "stdout",
     "output_type": "stream",
     "text": [
      "Cross validation accuracy: 0.7255582128889561\n",
      "\n",
      "Classification report of random forest classifier on test set: \n",
      "              precision    recall  f1-score   support\n",
      "\n",
      "           0       0.92      0.64      0.76      1560\n",
      "           1       0.45      0.84      0.59       553\n",
      "\n",
      "   micro avg       0.69      0.69      0.69      2113\n",
      "   macro avg       0.69      0.74      0.67      2113\n",
      "weighted avg       0.80      0.69      0.71      2113\n",
      "\n"
     ]
    },
    {
     "data": {
      "image/png": "[encoded data removed]",
      "text/plain": [
       "<Figure size 432x288 with 2 Axes>"
      ]
     },
     "metadata": {
      "needs_background": "light"
     },
     "output_type": "display_data"
    }
   ],
   "source": [
    "### finally, running the best random forest using the above results\n",
    "model_rf=RandomForestClassifier(max_depth=3, oob_score=True, n_jobs=-1, random_state=0, \n",
    "                                   max_features=\"auto\",  class_weight='balanced')\n",
    "model_rf = model_rf.fit(X_important_train,Y_train)\n",
    "Y_rf_important_pred = model_rf.predict(X_important_test)\n",
    "\n",
    "rf_result = cross_val_score(model_rf,X_important_train,Y_train, scoring='accuracy')\n",
    "print ('Cross validation accuracy: ' + str(rf_result.mean()))\n",
    "\n",
    "print('\\nClassification report of random forest classifier on test set: \\n'+ \n",
    "     str(classification_report(Y_test, Y_rf_important_pred)))\n",
    "\n",
    "#confusion matrix\n",
    "cm= confusion_matrix(Y_test, Y_rf_important_pred)\n",
    "ax= plt.subplot()\n",
    "sns.heatmap(cm, annot=True, ax = ax,fmt=\"d\"); #annot=True to annotate cells\n",
    "\n",
    "# labels, title and ticks\n",
    "ax.set_xlabel('Predicted labels');ax.set_ylabel('True labels'); \n",
    "ax.set_title('Confusion Matrix'); \n",
    "ax.xaxis.set_ticklabels(['No Churn', 'Churn']); ax.yaxis.set_ticklabels(['No Churn', 'Churn']);"
   ]
  },
  {
   "cell_type": "code",
   "execution_count": 45,
   "metadata": {
    "scrolled": false
   },
   "outputs": [
    {
     "name": "stderr",
     "output_type": "stream",
     "text": [
      "/Users/Liuna/anaconda3/lib/python3.6/site-packages/sklearn/model_selection/_split.py:1943: FutureWarning: You should specify a value for 'cv' instead of relying on the default value. The default value will change from 3 to 5 in version 0.22.\n",
      "  warnings.warn(CV_WARNING, FutureWarning)\n"
     ]
    },
    {
     "name": "stdout",
     "output_type": "stream",
     "text": [
      "Cross validation accuracy: 0.7703841674297855\n",
      "\n",
      "Classification report of random forest classifier on test set: \n",
      "              precision    recall  f1-score   support\n",
      "\n",
      "           0       0.82      0.88      0.85      1560\n",
      "           1       0.57      0.47      0.52       553\n",
      "\n",
      "   micro avg       0.77      0.77      0.77      2113\n",
      "   macro avg       0.70      0.67      0.68      2113\n",
      "weighted avg       0.76      0.77      0.76      2113\n",
      "\n"
     ]
    },
    {
     "data": {
      "image/png": "[encoded data removed]",
      "text/plain": [
       "<Figure size 432x288 with 2 Axes>"
      ]
     },
     "metadata": {
      "needs_background": "light"
     },
     "output_type": "display_data"
    }
   ],
   "source": [
    "### second tuning\n",
    "model_rf=RandomForestClassifier(n_estimators=20, oob_score=True, n_jobs=-1, random_state=0, \n",
    "                                   max_features=\"auto\",  class_weight='balanced')\n",
    "model_rf = model_rf.fit(X_important_train,Y_train)\n",
    "Y_rf_important_pred = model_rf.predict(X_important_test)\n",
    "\n",
    "rf_result = cross_val_score(model_rf,X_important_train,Y_train, scoring='accuracy')\n",
    "print ('Cross validation accuracy: ' + str(rf_result.mean()))\n",
    "\n",
    "print('\\nClassification report of random forest classifier on test set: \\n'+ \n",
    "     str(classification_report(Y_test, Y_rf_important_pred)))\n",
    "\n",
    "#confusion matrix\n",
    "cm= confusion_matrix(Y_test, Y_rf_important_pred)\n",
    "ax= plt.subplot()\n",
    "sns.heatmap(cm, annot=True, ax = ax,fmt=\"d\"); #annot=True to annotate cells\n",
    "\n",
    "# labels, title and ticks\n",
    "ax.set_xlabel('Predicted labels');ax.set_ylabel('True labels'); \n",
    "ax.set_title('Confusion Matrix'); \n",
    "ax.xaxis.set_ticklabels(['No Churn', 'Churn']); ax.yaxis.set_ticklabels(['No Churn', 'Churn']);"
   ]
  },
  {
   "cell_type": "code",
   "execution_count": 46,
   "metadata": {
    "scrolled": false
   },
   "outputs": [
    {
     "name": "stderr",
     "output_type": "stream",
     "text": [
      "/Users/Liuna/anaconda3/lib/python3.6/site-packages/sklearn/ensemble/forest.py:248: FutureWarning: The default value of n_estimators will change from 10 in version 0.20 to 100 in 0.22.\n",
      "  \"10 in version 0.20 to 100 in 0.22.\", FutureWarning)\n",
      "/Users/Liuna/anaconda3/lib/python3.6/site-packages/sklearn/ensemble/forest.py:460: UserWarning: Some inputs do not have OOB scores. This probably means too few trees were used to compute any reliable oob estimates.\n",
      "  warn(\"Some inputs do not have OOB scores. \"\n",
      "/Users/Liuna/anaconda3/lib/python3.6/site-packages/sklearn/ensemble/forest.py:465: RuntimeWarning: invalid value encountered in true_divide\n",
      "  predictions[k].sum(axis=1)[:, np.newaxis])\n",
      "/Users/Liuna/anaconda3/lib/python3.6/site-packages/sklearn/model_selection/_split.py:1943: FutureWarning: You should specify a value for 'cv' instead of relying on the default value. The default value will change from 3 to 5 in version 0.22.\n",
      "  warnings.warn(CV_WARNING, FutureWarning)\n",
      "/Users/Liuna/anaconda3/lib/python3.6/site-packages/sklearn/ensemble/forest.py:460: UserWarning: Some inputs do not have OOB scores. This probably means too few trees were used to compute any reliable oob estimates.\n",
      "  warn(\"Some inputs do not have OOB scores. \"\n",
      "/Users/Liuna/anaconda3/lib/python3.6/site-packages/sklearn/ensemble/forest.py:465: RuntimeWarning: invalid value encountered in true_divide\n",
      "  predictions[k].sum(axis=1)[:, np.newaxis])\n",
      "/Users/Liuna/anaconda3/lib/python3.6/site-packages/sklearn/ensemble/forest.py:460: UserWarning: Some inputs do not have OOB scores. This probably means too few trees were used to compute any reliable oob estimates.\n",
      "  warn(\"Some inputs do not have OOB scores. \"\n",
      "/Users/Liuna/anaconda3/lib/python3.6/site-packages/sklearn/ensemble/forest.py:465: RuntimeWarning: invalid value encountered in true_divide\n",
      "  predictions[k].sum(axis=1)[:, np.newaxis])\n",
      "/Users/Liuna/anaconda3/lib/python3.6/site-packages/sklearn/ensemble/forest.py:460: UserWarning: Some inputs do not have OOB scores. This probably means too few trees were used to compute any reliable oob estimates.\n",
      "  warn(\"Some inputs do not have OOB scores. \"\n",
      "/Users/Liuna/anaconda3/lib/python3.6/site-packages/sklearn/ensemble/forest.py:465: RuntimeWarning: invalid value encountered in true_divide\n",
      "  predictions[k].sum(axis=1)[:, np.newaxis])\n"
     ]
    },
    {
     "name": "stdout",
     "output_type": "stream",
     "text": [
      "Cross validation accuracy: 0.7614633312687138\n",
      "\n",
      "Classification report of random forest classifier on test set: \n",
      "              precision    recall  f1-score   support\n",
      "\n",
      "           0       0.87      0.80      0.83      1560\n",
      "           1       0.53      0.65      0.59       553\n",
      "\n",
      "   micro avg       0.76      0.76      0.76      2113\n",
      "   macro avg       0.70      0.73      0.71      2113\n",
      "weighted avg       0.78      0.76      0.77      2113\n",
      "\n"
     ]
    },
    {
     "data": {
      "image/png": "[encoded data removed]",
      "text/plain": [
       "<Figure size 432x288 with 2 Axes>"
      ]
     },
     "metadata": {
      "needs_background": "light"
     },
     "output_type": "display_data"
    }
   ],
   "source": [
    "### thirds tuning\n",
    "model_rf=RandomForestClassifier(min_samples_leaf=5 , oob_score=True, n_jobs=-1, random_state=0, \n",
    "                                   max_features=\"auto\",  class_weight='balanced')\n",
    "model_rf = model_rf.fit(X_important_train,Y_train)\n",
    "Y_rf_important_pred = model_rf.predict(X_important_test)\n",
    "\n",
    "rf_result = cross_val_score(model_rf,X_important_train,Y_train, scoring='accuracy')\n",
    "print ('Cross validation accuracy: ' + str(rf_result.mean()))\n",
    "\n",
    "print('\\nClassification report of random forest classifier on test set: \\n'+ \n",
    "     str(classification_report(Y_test, Y_rf_important_pred)))\n",
    "\n",
    "#confusion matrix\n",
    "cm= confusion_matrix(Y_test, Y_rf_important_pred)\n",
    "ax= plt.subplot()\n",
    "sns.heatmap(cm, annot=True, ax = ax,fmt=\"d\"); #annot=True to annotate cells\n",
    "\n",
    "# labels, title and ticks\n",
    "ax.set_xlabel('Predicted labels');ax.set_ylabel('True labels'); \n",
    "ax.set_title('Confusion Matrix'); \n",
    "ax.xaxis.set_ticklabels(['No Churn', 'Churn']); ax.yaxis.set_ticklabels(['No Churn', 'Churn']);"
   ]
  },
  {
   "cell_type": "code",
   "execution_count": 47,
   "metadata": {
    "scrolled": false
   },
   "outputs": [
    {
     "name": "stderr",
     "output_type": "stream",
     "text": [
      "/Users/Liuna/anaconda3/lib/python3.6/site-packages/sklearn/model_selection/_split.py:1943: FutureWarning: You should specify a value for 'cv' instead of relying on the default value. The default value will change from 3 to 5 in version 0.22.\n",
      "  warnings.warn(CV_WARNING, FutureWarning)\n"
     ]
    },
    {
     "name": "stdout",
     "output_type": "stream",
     "text": [
      "Cross validation accuracy: 0.7239366468008769\n",
      "\n",
      "Classification report of random forest classifier on test set: \n",
      "              precision    recall  f1-score   support\n",
      "\n",
      "           0       0.92      0.64      0.75      1560\n",
      "           1       0.45      0.84      0.59       553\n",
      "\n",
      "   micro avg       0.69      0.69      0.69      2113\n",
      "   macro avg       0.69      0.74      0.67      2113\n",
      "weighted avg       0.80      0.69      0.71      2113\n",
      "\n"
     ]
    },
    {
     "data": {
      "image/png": "[encoded data removed]",
      "text/plain": [
       "<Figure size 432x288 with 2 Axes>"
      ]
     },
     "metadata": {
      "needs_background": "light"
     },
     "output_type": "display_data"
    }
   ],
   "source": [
    "# all hypertuning\n",
    "model_rf=RandomForestClassifier(n_estimators=20, min_samples_leaf=5,max_depth=3, oob_score=True, n_jobs=-1, \n",
    "                                random_state=0, max_features=\"auto\",  class_weight='balanced')\n",
    "model_rf = model_rf.fit(X_important_train,Y_train)\n",
    "Y_rf_important_pred = model_rf.predict(X_important_test)\n",
    "\n",
    "rf_result = cross_val_score(model_rf,X_important_train,Y_train, scoring='accuracy')\n",
    "print ('Cross validation accuracy: ' + str(rf_result.mean()))\n",
    "\n",
    "print('\\nClassification report of random forest classifier on test set: \\n'+ \n",
    "     str(classification_report(Y_test, Y_rf_important_pred)))\n",
    "#confusion matrix\n",
    "cm= confusion_matrix(Y_test, Y_rf_important_pred)\n",
    "ax= plt.subplot()\n",
    "sns.heatmap(cm, annot=True, ax = ax,fmt=\"d\"); #annot=True to annotate cells\n",
    "\n",
    "# labels, title and ticks\n",
    "ax.set_xlabel('Predicted labels');ax.set_ylabel('True labels'); \n",
    "ax.set_title('Confusion Matrix'); \n",
    "ax.xaxis.set_ticklabels(['No Churn', 'Churn']); ax.yaxis.set_ticklabels(['No Churn', 'Churn']);"
   ]
  },
  {
   "cell_type": "markdown",
   "metadata": {},
   "source": [
    "Considering all classification metrics, I choose the second model which have 20 as the number of trees in the forest(n_estimators) among the different random forest models.\n",
    "* Accuracy of random forest classification is 77%.<br>\n",
    "* Precision of random forest classification is 58%.<br>\n",
    "* Recall of random forest classification is 47% for identifying the customer churn.<br>"
   ]
  },
  {
   "cell_type": "markdown",
   "metadata": {},
   "source": [
    "## Applications of Customer Churn Models"
   ]
  },
  {
   "cell_type": "markdown",
   "metadata": {},
   "source": [
    "* The practical uses of my model is to predict what percentage of customers churn. \n",
    "* Based on this insight, the businesses can segment customers and focus on the group of customers who are more likely to churn. \n",
    "* By setting special campaigns which target the churning customers, the businesses may be able to retain a higher percentage of their customers. \n",
    "* Besides, knowing about the causes of customer churn is informative and can provide insights into the businesses. For instance, customers churn may be due to specific new feature added to the product, so improvement in product or some changes in product design may encourage the customers to not churn."
   ]
  },
  {
   "cell_type": "markdown",
   "metadata": {},
   "source": [
    "## Challenges and Possible Solutions"
   ]
  },
  {
   "cell_type": "markdown",
   "metadata": {},
   "source": [
    "* I have an imbalanced dataset. In my most of models I use **class_weight** option to deal with the imbalance of data.\n",
    "* **Neural Network** models would work better for predicting customer churn.\n",
    "* One of the features is customers' tenure, which is the period of the time customer leave or stay with the company, is a censored feature. \n",
    "* Censorship means that after a given point of time, it is not known to data scientist whether the customer would stay or leave.\n",
    "* in this dataset we have right censorship problem.\n",
    "* The correct model which provide us the probability of customer churn while dealing with time feature censorship is Survival models such as Cox model. "
   ]
  }
 ],
 "metadata": {
  "kernelspec": {
   "display_name": "Python 3",
   "language": "python",
   "name": "python3"
  },
  "language_info": {
   "codemirror_mode": {
    "name": "ipython",
    "version": 3
   },
   "file_extension": ".py",
   "mimetype": "text/x-python",
   "name": "python",
   "nbconvert_exporter": "python",
   "pygments_lexer": "ipython3",
   "version": "3.6.6"
  }
 },
 "nbformat": 4,
 "nbformat_minor": 2
}
